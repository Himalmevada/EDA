{
 "cells": [
  {
   "cell_type": "markdown",
   "id": "4c2c86ff-12c2-4668-b6ac-6abb6ad87646",
   "metadata": {
    "tags": []
   },
   "source": [
    "### 1. Summary for our data :\n",
    "We have 3044 data of all the startup that runs in india with the column of startup date, startup name, industry vertical with industry subvertical, city, investors name, investment type, amount and remarks."
   ]
  },
  {
   "cell_type": "markdown",
   "id": "856c53b5-25ce-40d3-becd-10ebcd6694ce",
   "metadata": {},
   "source": [
    "### 2. Write Column Descriptions :\n",
    "- `Sr No` = Serial number of data.\n",
    "- `Date dd/mm/yyyy` : The date of startup.\n",
    "- `Startup Name` : The name of the startup.\n",
    "- `Industry Vertical` : The industry of the startup like e-commerce, technology or etc.\n",
    "- `SubVertical` : Sub vertical of our industry vertical like E-learning is the sub vertical of E-tech industry.\n",
    "- `City Location` : Name of the city where startup was started.\n",
    "- `Investors Name` : The name of the all the investors who invested in the startup.\n",
    "- `InvestmentType` : Type of investement in the company like seed funding or private funding etc.. \n",
    "- `Amount in USD` : The total amount invested by the investors.\n",
    "- `Remarks` : Just for comment purpose. Like round of seed funding."
   ]
  },
  {
   "cell_type": "markdown",
   "id": "fea1ec37-842d-4a80-9dd8-7244635679d7",
   "metadata": {},
   "source": [
    "### 3. Add any addition information :\n",
    "#### Additional useful information : \n",
    "- None"
   ]
  },
  {
   "cell_type": "markdown",
   "id": "71a8cfaa-d6a8-49d6-bf1a-093f5b05fdb0",
   "metadata": {},
   "source": [
    "### 4. Type of Assessment :\n",
    "There are 2 types of assessement styles\n",
    "- Manual - Looking through the data manually in google sheets\n",
    "- Programmatic - By using pandas functions such as info(), describe() or sample()\n",
    "\n",
    "### Steps in Assessment :\n",
    "There are 2 steps involved in Assessment\n",
    "- Discover\n",
    "- Document"
   ]
  },
  {
   "cell_type": "code",
   "execution_count": 1,
   "id": "d0d56f5e-b2bc-46fd-b2ec-9d4dee1c53d8",
   "metadata": {},
   "outputs": [],
   "source": [
    "import numpy as np\n",
    "import pandas as pd\n",
    "import matplotlib.pyplot as plt\n",
    "import seaborn as sns\n",
    "import warnings\n",
    "warnings.filterwarnings(action='ignore')"
   ]
  },
  {
   "cell_type": "code",
   "execution_count": 2,
   "id": "f906b339-36c3-4560-bea8-7de7306ddce9",
   "metadata": {},
   "outputs": [],
   "source": [
    "# pd.set_option(\"display.max_rows\",100)"
   ]
  },
  {
   "cell_type": "code",
   "execution_count": 3,
   "id": "1e7fc559-0e9a-4206-9ffe-17b159320f0e",
   "metadata": {},
   "outputs": [],
   "source": [
    "df = pd.read_csv(\"startup_funding.csv\")"
   ]
  },
  {
   "cell_type": "code",
   "execution_count": 4,
   "id": "0300e63a-8ac7-49cc-8df1-e8bee79adb11",
   "metadata": {},
   "outputs": [
    {
     "data": {
      "text/html": [
       "<div>\n",
       "<style scoped>\n",
       "    .dataframe tbody tr th:only-of-type {\n",
       "        vertical-align: middle;\n",
       "    }\n",
       "\n",
       "    .dataframe tbody tr th {\n",
       "        vertical-align: top;\n",
       "    }\n",
       "\n",
       "    .dataframe thead th {\n",
       "        text-align: right;\n",
       "    }\n",
       "</style>\n",
       "<table border=\"1\" class=\"dataframe\">\n",
       "  <thead>\n",
       "    <tr style=\"text-align: right;\">\n",
       "      <th></th>\n",
       "      <th>Sr No</th>\n",
       "      <th>Date dd/mm/yyyy</th>\n",
       "      <th>Startup Name</th>\n",
       "      <th>Industry Vertical</th>\n",
       "      <th>SubVertical</th>\n",
       "      <th>City  Location</th>\n",
       "      <th>Investors Name</th>\n",
       "      <th>InvestmentType</th>\n",
       "      <th>Amount in USD</th>\n",
       "      <th>Remarks</th>\n",
       "    </tr>\n",
       "  </thead>\n",
       "  <tbody>\n",
       "    <tr>\n",
       "      <th>0</th>\n",
       "      <td>1</td>\n",
       "      <td>9/1/2020</td>\n",
       "      <td>BYJU’S</td>\n",
       "      <td>E-Tech</td>\n",
       "      <td>E-learning</td>\n",
       "      <td>Bengaluru</td>\n",
       "      <td>Tiger Global Management</td>\n",
       "      <td>Private Equity Round</td>\n",
       "      <td>20,00,00,000</td>\n",
       "      <td>NaN</td>\n",
       "    </tr>\n",
       "    <tr>\n",
       "      <th>1</th>\n",
       "      <td>2</td>\n",
       "      <td>13/01/2020</td>\n",
       "      <td>Shuttl</td>\n",
       "      <td>Transportation</td>\n",
       "      <td>App based shuttle service</td>\n",
       "      <td>Gurgaon</td>\n",
       "      <td>Susquehanna Growth Equity</td>\n",
       "      <td>Series C</td>\n",
       "      <td>80,48,394</td>\n",
       "      <td>NaN</td>\n",
       "    </tr>\n",
       "    <tr>\n",
       "      <th>2</th>\n",
       "      <td>3</td>\n",
       "      <td>9/1/2020</td>\n",
       "      <td>Mamaearth</td>\n",
       "      <td>E-commerce</td>\n",
       "      <td>Retailer of baby and toddler products</td>\n",
       "      <td>Bengaluru</td>\n",
       "      <td>Sequoia Capital India</td>\n",
       "      <td>Series B</td>\n",
       "      <td>1,83,58,860</td>\n",
       "      <td>NaN</td>\n",
       "    </tr>\n",
       "    <tr>\n",
       "      <th>3</th>\n",
       "      <td>4</td>\n",
       "      <td>2/1/2020</td>\n",
       "      <td>https://www.wealthbucket.in/</td>\n",
       "      <td>FinTech</td>\n",
       "      <td>Online Investment</td>\n",
       "      <td>New Delhi</td>\n",
       "      <td>Vinod Khatumal</td>\n",
       "      <td>Pre-series A</td>\n",
       "      <td>30,00,000</td>\n",
       "      <td>NaN</td>\n",
       "    </tr>\n",
       "    <tr>\n",
       "      <th>4</th>\n",
       "      <td>5</td>\n",
       "      <td>2/1/2020</td>\n",
       "      <td>Fashor</td>\n",
       "      <td>Fashion and Apparel</td>\n",
       "      <td>Embroiled Clothes For Women</td>\n",
       "      <td>Mumbai</td>\n",
       "      <td>Sprout Venture Partners</td>\n",
       "      <td>Seed Round</td>\n",
       "      <td>18,00,000</td>\n",
       "      <td>NaN</td>\n",
       "    </tr>\n",
       "  </tbody>\n",
       "</table>\n",
       "</div>"
      ],
      "text/plain": [
       "   Sr No Date dd/mm/yyyy                  Startup Name    Industry Vertical  \\\n",
       "0      1        9/1/2020                        BYJU’S               E-Tech   \n",
       "1      2      13/01/2020                        Shuttl       Transportation   \n",
       "2      3        9/1/2020                     Mamaearth           E-commerce   \n",
       "3      4        2/1/2020  https://www.wealthbucket.in/              FinTech   \n",
       "4      5        2/1/2020                        Fashor  Fashion and Apparel   \n",
       "\n",
       "                             SubVertical City  Location  \\\n",
       "0                             E-learning      Bengaluru   \n",
       "1              App based shuttle service        Gurgaon   \n",
       "2  Retailer of baby and toddler products      Bengaluru   \n",
       "3                      Online Investment      New Delhi   \n",
       "4            Embroiled Clothes For Women         Mumbai   \n",
       "\n",
       "              Investors Name        InvestmentType Amount in USD Remarks  \n",
       "0    Tiger Global Management  Private Equity Round  20,00,00,000     NaN  \n",
       "1  Susquehanna Growth Equity              Series C     80,48,394     NaN  \n",
       "2      Sequoia Capital India              Series B   1,83,58,860     NaN  \n",
       "3             Vinod Khatumal          Pre-series A     30,00,000     NaN  \n",
       "4    Sprout Venture Partners            Seed Round     18,00,000     NaN  "
      ]
     },
     "execution_count": 4,
     "metadata": {},
     "output_type": "execute_result"
    }
   ],
   "source": [
    "df.head()"
   ]
  },
  {
   "cell_type": "code",
   "execution_count": 5,
   "id": "8c198606-cd71-4437-a21b-bb7664ddb0c4",
   "metadata": {},
   "outputs": [
    {
     "data": {
      "text/plain": [
       "Sr No                   0\n",
       "Date dd/mm/yyyy         0\n",
       "Startup Name            0\n",
       "Industry Vertical     171\n",
       "SubVertical           936\n",
       "City  Location        180\n",
       "Investors Name         24\n",
       "InvestmentType          4\n",
       "Amount in USD         960\n",
       "Remarks              2625\n",
       "dtype: int64"
      ]
     },
     "execution_count": 5,
     "metadata": {},
     "output_type": "execute_result"
    }
   ],
   "source": [
    "df.isnull().sum()"
   ]
  },
  {
   "cell_type": "code",
   "execution_count": 6,
   "id": "e2d43214-4262-4854-bc4a-6d502c59b714",
   "metadata": {},
   "outputs": [
    {
     "data": {
      "text/plain": [
       "Sr No                 int64\n",
       "Date dd/mm/yyyy      object\n",
       "Startup Name         object\n",
       "Industry Vertical    object\n",
       "SubVertical          object\n",
       "City  Location       object\n",
       "Investors Name       object\n",
       "InvestmentType       object\n",
       "Amount in USD        object\n",
       "Remarks              object\n",
       "dtype: object"
      ]
     },
     "execution_count": 6,
     "metadata": {},
     "output_type": "execute_result"
    }
   ],
   "source": [
    "df.dtypes"
   ]
  },
  {
   "cell_type": "markdown",
   "id": "37d78abe-29c9-41c6-a1d1-09cdd174eaa0",
   "metadata": {
    "tags": []
   },
   "source": [
    "### Issues with the dataset :\n",
    "\n",
    "1. Dirty Data(Quality data): \n",
    "\n",
    "    - Date dd/mm/yyyy = Data type is Object It needs to be changed in datetime format. `validity`\n",
    "    - Date = Some date contain only two or more than three \"/\" in the data and some contain \".\". `validity`\n",
    "    - Date = index number [192, 2571] missing \"/\", 2606 contains unicode. `validity` \n",
    "    - Startup Name, Industry Vertical, SubVertical, Investors Name contains unicode characters. `accuracy`\n",
    "    - Startup Name = .in, .com, .io must be removed. `accuracy`\n",
    "    - Industry Vertical = 171 Missing Values. `completeness`\n",
    "    - SubVertical = 936 Missing Values. `completeness`\n",
    "    - City Location = 180 Missing Values. `completeness`\n",
    "    - Investors Name = 24 Missing Values. `completeness`\n",
    "    - InvestmentType = data is not consistent like seed funding named as seed round, seed funding round. `consistency`\n",
    "    - Amount in USD = change it to indian rupees. `validity`\n",
    "    - Remarks = 2625 Missing Values need to dropped. `completeness`\n",
    "    - City = Change Bengaluru to Bangalore. `consistency`\n",
    "    - Industry Vertical = chnage this names ecommerce,eCommerce,ECommerce,E-commerce to same format. `consistency`\n",
    "    \n",
    "\n",
    "\n",
    "<!-- 2. Messy Data(Tidy Data) : -->"
   ]
  },
  {
   "cell_type": "markdown",
   "id": "99e144c8-d6fe-4ec4-b4bb-7a785c2b2a76",
   "metadata": {},
   "source": [
    "### Automatic Assessment :\n",
    "- head and tail\n",
    "- sample\n",
    "- info\n",
    "- isnull\n",
    "- duplicated\n",
    "- describe"
   ]
  },
  {
   "cell_type": "code",
   "execution_count": 7,
   "id": "af325a58-9333-4648-aa44-6ebb5bf65bf1",
   "metadata": {},
   "outputs": [
    {
     "data": {
      "text/html": [
       "<div>\n",
       "<style scoped>\n",
       "    .dataframe tbody tr th:only-of-type {\n",
       "        vertical-align: middle;\n",
       "    }\n",
       "\n",
       "    .dataframe tbody tr th {\n",
       "        vertical-align: top;\n",
       "    }\n",
       "\n",
       "    .dataframe thead th {\n",
       "        text-align: right;\n",
       "    }\n",
       "</style>\n",
       "<table border=\"1\" class=\"dataframe\">\n",
       "  <thead>\n",
       "    <tr style=\"text-align: right;\">\n",
       "      <th></th>\n",
       "      <th>Sr No</th>\n",
       "      <th>Date dd/mm/yyyy</th>\n",
       "      <th>Startup Name</th>\n",
       "      <th>Industry Vertical</th>\n",
       "      <th>SubVertical</th>\n",
       "      <th>City  Location</th>\n",
       "      <th>Investors Name</th>\n",
       "      <th>InvestmentType</th>\n",
       "      <th>Amount in USD</th>\n",
       "      <th>Remarks</th>\n",
       "    </tr>\n",
       "  </thead>\n",
       "  <tbody>\n",
       "    <tr>\n",
       "      <th>0</th>\n",
       "      <td>1</td>\n",
       "      <td>9/1/2020</td>\n",
       "      <td>BYJU’S</td>\n",
       "      <td>E-Tech</td>\n",
       "      <td>E-learning</td>\n",
       "      <td>Bengaluru</td>\n",
       "      <td>Tiger Global Management</td>\n",
       "      <td>Private Equity Round</td>\n",
       "      <td>20,00,00,000</td>\n",
       "      <td>NaN</td>\n",
       "    </tr>\n",
       "    <tr>\n",
       "      <th>1</th>\n",
       "      <td>2</td>\n",
       "      <td>13/01/2020</td>\n",
       "      <td>Shuttl</td>\n",
       "      <td>Transportation</td>\n",
       "      <td>App based shuttle service</td>\n",
       "      <td>Gurgaon</td>\n",
       "      <td>Susquehanna Growth Equity</td>\n",
       "      <td>Series C</td>\n",
       "      <td>80,48,394</td>\n",
       "      <td>NaN</td>\n",
       "    </tr>\n",
       "    <tr>\n",
       "      <th>2</th>\n",
       "      <td>3</td>\n",
       "      <td>9/1/2020</td>\n",
       "      <td>Mamaearth</td>\n",
       "      <td>E-commerce</td>\n",
       "      <td>Retailer of baby and toddler products</td>\n",
       "      <td>Bengaluru</td>\n",
       "      <td>Sequoia Capital India</td>\n",
       "      <td>Series B</td>\n",
       "      <td>1,83,58,860</td>\n",
       "      <td>NaN</td>\n",
       "    </tr>\n",
       "    <tr>\n",
       "      <th>3</th>\n",
       "      <td>4</td>\n",
       "      <td>2/1/2020</td>\n",
       "      <td>https://www.wealthbucket.in/</td>\n",
       "      <td>FinTech</td>\n",
       "      <td>Online Investment</td>\n",
       "      <td>New Delhi</td>\n",
       "      <td>Vinod Khatumal</td>\n",
       "      <td>Pre-series A</td>\n",
       "      <td>30,00,000</td>\n",
       "      <td>NaN</td>\n",
       "    </tr>\n",
       "    <tr>\n",
       "      <th>4</th>\n",
       "      <td>5</td>\n",
       "      <td>2/1/2020</td>\n",
       "      <td>Fashor</td>\n",
       "      <td>Fashion and Apparel</td>\n",
       "      <td>Embroiled Clothes For Women</td>\n",
       "      <td>Mumbai</td>\n",
       "      <td>Sprout Venture Partners</td>\n",
       "      <td>Seed Round</td>\n",
       "      <td>18,00,000</td>\n",
       "      <td>NaN</td>\n",
       "    </tr>\n",
       "  </tbody>\n",
       "</table>\n",
       "</div>"
      ],
      "text/plain": [
       "   Sr No Date dd/mm/yyyy                  Startup Name    Industry Vertical  \\\n",
       "0      1        9/1/2020                        BYJU’S               E-Tech   \n",
       "1      2      13/01/2020                        Shuttl       Transportation   \n",
       "2      3        9/1/2020                     Mamaearth           E-commerce   \n",
       "3      4        2/1/2020  https://www.wealthbucket.in/              FinTech   \n",
       "4      5        2/1/2020                        Fashor  Fashion and Apparel   \n",
       "\n",
       "                             SubVertical City  Location  \\\n",
       "0                             E-learning      Bengaluru   \n",
       "1              App based shuttle service        Gurgaon   \n",
       "2  Retailer of baby and toddler products      Bengaluru   \n",
       "3                      Online Investment      New Delhi   \n",
       "4            Embroiled Clothes For Women         Mumbai   \n",
       "\n",
       "              Investors Name        InvestmentType Amount in USD Remarks  \n",
       "0    Tiger Global Management  Private Equity Round  20,00,00,000     NaN  \n",
       "1  Susquehanna Growth Equity              Series C     80,48,394     NaN  \n",
       "2      Sequoia Capital India              Series B   1,83,58,860     NaN  \n",
       "3             Vinod Khatumal          Pre-series A     30,00,000     NaN  \n",
       "4    Sprout Venture Partners            Seed Round     18,00,000     NaN  "
      ]
     },
     "execution_count": 7,
     "metadata": {},
     "output_type": "execute_result"
    }
   ],
   "source": [
    "df.head()"
   ]
  },
  {
   "cell_type": "code",
   "execution_count": 8,
   "id": "d87bcca4-daca-4a0a-afd3-6d1eaeddef99",
   "metadata": {},
   "outputs": [
    {
     "data": {
      "text/html": [
       "<div>\n",
       "<style scoped>\n",
       "    .dataframe tbody tr th:only-of-type {\n",
       "        vertical-align: middle;\n",
       "    }\n",
       "\n",
       "    .dataframe tbody tr th {\n",
       "        vertical-align: top;\n",
       "    }\n",
       "\n",
       "    .dataframe thead th {\n",
       "        text-align: right;\n",
       "    }\n",
       "</style>\n",
       "<table border=\"1\" class=\"dataframe\">\n",
       "  <thead>\n",
       "    <tr style=\"text-align: right;\">\n",
       "      <th></th>\n",
       "      <th>Sr No</th>\n",
       "      <th>Date dd/mm/yyyy</th>\n",
       "      <th>Startup Name</th>\n",
       "      <th>Industry Vertical</th>\n",
       "      <th>SubVertical</th>\n",
       "      <th>City  Location</th>\n",
       "      <th>Investors Name</th>\n",
       "      <th>InvestmentType</th>\n",
       "      <th>Amount in USD</th>\n",
       "      <th>Remarks</th>\n",
       "    </tr>\n",
       "  </thead>\n",
       "  <tbody>\n",
       "    <tr>\n",
       "      <th>3039</th>\n",
       "      <td>3040</td>\n",
       "      <td>29/01/2015</td>\n",
       "      <td>Printvenue</td>\n",
       "      <td>NaN</td>\n",
       "      <td>NaN</td>\n",
       "      <td>NaN</td>\n",
       "      <td>Asia Pacific Internet Group</td>\n",
       "      <td>Private Equity</td>\n",
       "      <td>45,00,000</td>\n",
       "      <td>NaN</td>\n",
       "    </tr>\n",
       "    <tr>\n",
       "      <th>3040</th>\n",
       "      <td>3041</td>\n",
       "      <td>29/01/2015</td>\n",
       "      <td>Graphene</td>\n",
       "      <td>NaN</td>\n",
       "      <td>NaN</td>\n",
       "      <td>NaN</td>\n",
       "      <td>KARSEMVEN Fund</td>\n",
       "      <td>Private Equity</td>\n",
       "      <td>8,25,000</td>\n",
       "      <td>Govt backed VC Fund</td>\n",
       "    </tr>\n",
       "    <tr>\n",
       "      <th>3041</th>\n",
       "      <td>3042</td>\n",
       "      <td>30/01/2015</td>\n",
       "      <td>Mad Street Den</td>\n",
       "      <td>NaN</td>\n",
       "      <td>NaN</td>\n",
       "      <td>NaN</td>\n",
       "      <td>Exfinity Fund, GrowX Ventures.</td>\n",
       "      <td>Private Equity</td>\n",
       "      <td>15,00,000</td>\n",
       "      <td>NaN</td>\n",
       "    </tr>\n",
       "    <tr>\n",
       "      <th>3042</th>\n",
       "      <td>3043</td>\n",
       "      <td>30/01/2015</td>\n",
       "      <td>Simplotel</td>\n",
       "      <td>NaN</td>\n",
       "      <td>NaN</td>\n",
       "      <td>NaN</td>\n",
       "      <td>MakeMyTrip</td>\n",
       "      <td>Private Equity</td>\n",
       "      <td>NaN</td>\n",
       "      <td>Strategic Funding, Minority stake</td>\n",
       "    </tr>\n",
       "    <tr>\n",
       "      <th>3043</th>\n",
       "      <td>3044</td>\n",
       "      <td>31/01/2015</td>\n",
       "      <td>couponmachine.in</td>\n",
       "      <td>NaN</td>\n",
       "      <td>NaN</td>\n",
       "      <td>NaN</td>\n",
       "      <td>UK based Group of Angel Investors</td>\n",
       "      <td>Seed Funding</td>\n",
       "      <td>1,40,000</td>\n",
       "      <td>NaN</td>\n",
       "    </tr>\n",
       "  </tbody>\n",
       "</table>\n",
       "</div>"
      ],
      "text/plain": [
       "      Sr No Date dd/mm/yyyy      Startup Name Industry Vertical SubVertical  \\\n",
       "3039   3040      29/01/2015        Printvenue               NaN         NaN   \n",
       "3040   3041      29/01/2015          Graphene               NaN         NaN   \n",
       "3041   3042      30/01/2015    Mad Street Den               NaN         NaN   \n",
       "3042   3043      30/01/2015         Simplotel               NaN         NaN   \n",
       "3043   3044      31/01/2015  couponmachine.in               NaN         NaN   \n",
       "\n",
       "     City  Location                     Investors Name  InvestmentType  \\\n",
       "3039            NaN        Asia Pacific Internet Group  Private Equity   \n",
       "3040            NaN                     KARSEMVEN Fund  Private Equity   \n",
       "3041            NaN     Exfinity Fund, GrowX Ventures.  Private Equity   \n",
       "3042            NaN                         MakeMyTrip  Private Equity   \n",
       "3043            NaN  UK based Group of Angel Investors    Seed Funding   \n",
       "\n",
       "     Amount in USD                            Remarks  \n",
       "3039     45,00,000                                NaN  \n",
       "3040      8,25,000                Govt backed VC Fund  \n",
       "3041     15,00,000                                NaN  \n",
       "3042           NaN  Strategic Funding, Minority stake  \n",
       "3043      1,40,000                                NaN  "
      ]
     },
     "execution_count": 8,
     "metadata": {},
     "output_type": "execute_result"
    }
   ],
   "source": [
    "df.tail()"
   ]
  },
  {
   "cell_type": "code",
   "execution_count": 9,
   "id": "9241bd97-05c1-4119-b126-7ff79a781afc",
   "metadata": {},
   "outputs": [
    {
     "name": "stdout",
     "output_type": "stream",
     "text": [
      "<class 'pandas.core.frame.DataFrame'>\n",
      "RangeIndex: 3044 entries, 0 to 3043\n",
      "Data columns (total 10 columns):\n",
      " #   Column             Non-Null Count  Dtype \n",
      "---  ------             --------------  ----- \n",
      " 0   Sr No              3044 non-null   int64 \n",
      " 1   Date dd/mm/yyyy    3044 non-null   object\n",
      " 2   Startup Name       3044 non-null   object\n",
      " 3   Industry Vertical  2873 non-null   object\n",
      " 4   SubVertical        2108 non-null   object\n",
      " 5   City  Location     2864 non-null   object\n",
      " 6   Investors Name     3020 non-null   object\n",
      " 7   InvestmentType     3040 non-null   object\n",
      " 8   Amount in USD      2084 non-null   object\n",
      " 9   Remarks            419 non-null    object\n",
      "dtypes: int64(1), object(9)\n",
      "memory usage: 237.9+ KB\n"
     ]
    }
   ],
   "source": [
    "df.info()"
   ]
  },
  {
   "cell_type": "code",
   "execution_count": 10,
   "id": "bdc2a9b7-0b87-4f71-b174-15e44950c624",
   "metadata": {},
   "outputs": [
    {
     "data": {
      "text/plain": [
       "Sr No                   0\n",
       "Date dd/mm/yyyy         0\n",
       "Startup Name            0\n",
       "Industry Vertical     171\n",
       "SubVertical           936\n",
       "City  Location        180\n",
       "Investors Name         24\n",
       "InvestmentType          4\n",
       "Amount in USD         960\n",
       "Remarks              2625\n",
       "dtype: int64"
      ]
     },
     "execution_count": 10,
     "metadata": {},
     "output_type": "execute_result"
    }
   ],
   "source": [
    "df.isnull().sum()"
   ]
  },
  {
   "cell_type": "code",
   "execution_count": 11,
   "id": "80060940-eca7-414f-96c5-7762626bc29a",
   "metadata": {},
   "outputs": [
    {
     "data": {
      "text/plain": [
       "0"
      ]
     },
     "execution_count": 11,
     "metadata": {},
     "output_type": "execute_result"
    }
   ],
   "source": [
    "df.duplicated().sum()"
   ]
  },
  {
   "cell_type": "code",
   "execution_count": 12,
   "id": "60fd11ba-8e69-45d0-bd97-a6534a038d9e",
   "metadata": {},
   "outputs": [
    {
     "data": {
      "text/html": [
       "<div>\n",
       "<style scoped>\n",
       "    .dataframe tbody tr th:only-of-type {\n",
       "        vertical-align: middle;\n",
       "    }\n",
       "\n",
       "    .dataframe tbody tr th {\n",
       "        vertical-align: top;\n",
       "    }\n",
       "\n",
       "    .dataframe thead th {\n",
       "        text-align: right;\n",
       "    }\n",
       "</style>\n",
       "<table border=\"1\" class=\"dataframe\">\n",
       "  <thead>\n",
       "    <tr style=\"text-align: right;\">\n",
       "      <th></th>\n",
       "      <th>Sr No</th>\n",
       "    </tr>\n",
       "  </thead>\n",
       "  <tbody>\n",
       "    <tr>\n",
       "      <th>count</th>\n",
       "      <td>3044.000000</td>\n",
       "    </tr>\n",
       "    <tr>\n",
       "      <th>mean</th>\n",
       "      <td>1522.500000</td>\n",
       "    </tr>\n",
       "    <tr>\n",
       "      <th>std</th>\n",
       "      <td>878.871435</td>\n",
       "    </tr>\n",
       "    <tr>\n",
       "      <th>min</th>\n",
       "      <td>1.000000</td>\n",
       "    </tr>\n",
       "    <tr>\n",
       "      <th>25%</th>\n",
       "      <td>761.750000</td>\n",
       "    </tr>\n",
       "    <tr>\n",
       "      <th>50%</th>\n",
       "      <td>1522.500000</td>\n",
       "    </tr>\n",
       "    <tr>\n",
       "      <th>75%</th>\n",
       "      <td>2283.250000</td>\n",
       "    </tr>\n",
       "    <tr>\n",
       "      <th>max</th>\n",
       "      <td>3044.000000</td>\n",
       "    </tr>\n",
       "  </tbody>\n",
       "</table>\n",
       "</div>"
      ],
      "text/plain": [
       "             Sr No\n",
       "count  3044.000000\n",
       "mean   1522.500000\n",
       "std     878.871435\n",
       "min       1.000000\n",
       "25%     761.750000\n",
       "50%    1522.500000\n",
       "75%    2283.250000\n",
       "max    3044.000000"
      ]
     },
     "execution_count": 12,
     "metadata": {},
     "output_type": "execute_result"
    }
   ],
   "source": [
    "df.describe()"
   ]
  },
  {
   "cell_type": "code",
   "execution_count": null,
   "id": "83062a69-929c-4dca-b30e-e4ed05190e67",
   "metadata": {},
   "outputs": [],
   "source": []
  },
  {
   "cell_type": "markdown",
   "id": "e55ae7dd-88ce-4981-af78-b1d0d94cffa7",
   "metadata": {},
   "source": [
    "### Data Quality Dimensions :\n",
    "- Completeness - Is data missing?\n",
    "- Validity - Is data invalid => negative height => duplicate patient id.\n",
    "- Accuracy - data is valid but not accurate => weight => 1kg instead of pounds.\n",
    "- Consistency - both valid and accurate but written differently => New York => NY."
   ]
  },
  {
   "cell_type": "markdown",
   "id": "df84103c-56dc-4c5a-b909-ec1c94b85441",
   "metadata": {},
   "source": [
    "### Order of severity :\n",
    "- completeness < validity < accuracy < consistency"
   ]
  },
  {
   "cell_type": "markdown",
   "id": "41f2ae89-600c-4032-a4b8-b619f53d96d9",
   "metadata": {},
   "source": [
    "### Data Cleaning Order :\n",
    "1. Quality : Completeness\n",
    "2. Tidiness\n",
    "3. Quality : Validity\n",
    "4. Quality : Accuracy\n",
    "5. Quality : Consistency"
   ]
  },
  {
   "cell_type": "markdown",
   "id": "ffe99e4c-9b8b-4923-9cf6-8ce2af89b83a",
   "metadata": {},
   "source": [
    "### Steps involved in Data Cleaning :\n",
    "- Define\n",
    "- Code\n",
    "- Test\n",
    "\n",
    "`Always make sure to create a copy of your pandas dataframe before you start the cleaning process.`"
   ]
  },
  {
   "cell_type": "code",
   "execution_count": 13,
   "id": "53e3d0e4-bc85-499c-b11f-b1df73128298",
   "metadata": {},
   "outputs": [],
   "source": [
    "df_copy = df.copy()"
   ]
  },
  {
   "cell_type": "code",
   "execution_count": 14,
   "id": "a8c79107-71b0-41ec-9599-a3ae490ac4bd",
   "metadata": {},
   "outputs": [],
   "source": [
    "df_copy.drop(\"Sr No\",axis=1,inplace=True)\n",
    "df_copy.drop(\"Remarks\",axis=1,inplace=True)"
   ]
  },
  {
   "cell_type": "code",
   "execution_count": 15,
   "id": "24118805-d9ea-42fa-9165-9b7003225808",
   "metadata": {},
   "outputs": [],
   "source": [
    "df_copy.columns = ['date', 'startup_name', 'industry_vertical', 'sub_vertical',\n",
    "       'city', 'investors_name', 'investment_type', 'amount(USD)']"
   ]
  },
  {
   "cell_type": "code",
   "execution_count": 16,
   "id": "02fe2396-d4e0-4a84-be77-9dfe57022572",
   "metadata": {},
   "outputs": [
    {
     "name": "stdout",
     "output_type": "stream",
     "text": [
      "<class 'pandas.core.frame.DataFrame'>\n",
      "RangeIndex: 3044 entries, 0 to 3043\n",
      "Data columns (total 8 columns):\n",
      " #   Column             Non-Null Count  Dtype \n",
      "---  ------             --------------  ----- \n",
      " 0   date               3044 non-null   object\n",
      " 1   startup_name       3044 non-null   object\n",
      " 2   industry_vertical  2873 non-null   object\n",
      " 3   sub_vertical       2108 non-null   object\n",
      " 4   city               2864 non-null   object\n",
      " 5   investors_name     3020 non-null   object\n",
      " 6   investment_type    3040 non-null   object\n",
      " 7   amount(USD)        2084 non-null   object\n",
      "dtypes: object(8)\n",
      "memory usage: 190.4+ KB\n"
     ]
    }
   ],
   "source": [
    "df_copy.info()"
   ]
  },
  {
   "cell_type": "markdown",
   "id": "8ef774cc-2484-4c06-bef7-5298c32b4cb8",
   "metadata": {},
   "source": [
    "### 1. Quality - Completeness"
   ]
  },
  {
   "cell_type": "markdown",
   "id": "d36c73b8-f3ce-47a5-80df-604a0394b4df",
   "metadata": {},
   "source": [
    "#### Working on completeness in all column."
   ]
  },
  {
   "cell_type": "code",
   "execution_count": 17,
   "id": "58712aef-46ec-4607-bb45-d3f91b5b686b",
   "metadata": {},
   "outputs": [
    {
     "data": {
      "text/plain": [
       "date                   0\n",
       "startup_name           0\n",
       "industry_vertical    171\n",
       "sub_vertical         936\n",
       "city                 180\n",
       "investors_name        24\n",
       "investment_type        4\n",
       "amount(USD)          960\n",
       "dtype: int64"
      ]
     },
     "execution_count": 17,
     "metadata": {},
     "output_type": "execute_result"
    }
   ],
   "source": [
    "df_copy.isna().sum()"
   ]
  },
  {
   "cell_type": "code",
   "execution_count": 18,
   "id": "516acb3c-65a8-4ea7-8e15-94256075043e",
   "metadata": {},
   "outputs": [
    {
     "data": {
      "text/html": [
       "<div>\n",
       "<style scoped>\n",
       "    .dataframe tbody tr th:only-of-type {\n",
       "        vertical-align: middle;\n",
       "    }\n",
       "\n",
       "    .dataframe tbody tr th {\n",
       "        vertical-align: top;\n",
       "    }\n",
       "\n",
       "    .dataframe thead th {\n",
       "        text-align: right;\n",
       "    }\n",
       "</style>\n",
       "<table border=\"1\" class=\"dataframe\">\n",
       "  <thead>\n",
       "    <tr style=\"text-align: right;\">\n",
       "      <th></th>\n",
       "      <th>date</th>\n",
       "      <th>startup_name</th>\n",
       "      <th>industry_vertical</th>\n",
       "      <th>sub_vertical</th>\n",
       "      <th>city</th>\n",
       "      <th>investors_name</th>\n",
       "      <th>investment_type</th>\n",
       "      <th>amount(USD)</th>\n",
       "    </tr>\n",
       "  </thead>\n",
       "  <tbody>\n",
       "    <tr>\n",
       "      <th>2873</th>\n",
       "      <td>2/3/2015</td>\n",
       "      <td>TrulyMadly.com</td>\n",
       "      <td>NaN</td>\n",
       "      <td>NaN</td>\n",
       "      <td>NaN</td>\n",
       "      <td>Helion Venture Partners, Kae Capital</td>\n",
       "      <td>Private Equity</td>\n",
       "      <td>55,00,000</td>\n",
       "    </tr>\n",
       "    <tr>\n",
       "      <th>2874</th>\n",
       "      <td>2/3/2015</td>\n",
       "      <td>InstaLively</td>\n",
       "      <td>NaN</td>\n",
       "      <td>NaN</td>\n",
       "      <td>NaN</td>\n",
       "      <td>Group of Angel Investors</td>\n",
       "      <td>Seed Funding</td>\n",
       "      <td>1,20,000</td>\n",
       "    </tr>\n",
       "    <tr>\n",
       "      <th>2875</th>\n",
       "      <td>3/3/2015</td>\n",
       "      <td>Vserv</td>\n",
       "      <td>NaN</td>\n",
       "      <td>NaN</td>\n",
       "      <td>NaN</td>\n",
       "      <td>Maverick Capital, IDG Ventures India</td>\n",
       "      <td>Private Equity</td>\n",
       "      <td>1,50,00,000</td>\n",
       "    </tr>\n",
       "    <tr>\n",
       "      <th>2876</th>\n",
       "      <td>3/3/2015</td>\n",
       "      <td>Intruo.com</td>\n",
       "      <td>NaN</td>\n",
       "      <td>NaN</td>\n",
       "      <td>NaN</td>\n",
       "      <td>Ashutosh Lawania, Alok Goel &amp; others</td>\n",
       "      <td>Seed Funding</td>\n",
       "      <td>NaN</td>\n",
       "    </tr>\n",
       "    <tr>\n",
       "      <th>2877</th>\n",
       "      <td>5/3/2015</td>\n",
       "      <td>Niffler</td>\n",
       "      <td>NaN</td>\n",
       "      <td>NaN</td>\n",
       "      <td>NaN</td>\n",
       "      <td>SAIF Partners</td>\n",
       "      <td>Seed Funding</td>\n",
       "      <td>10,00,000</td>\n",
       "    </tr>\n",
       "    <tr>\n",
       "      <th>...</th>\n",
       "      <td>...</td>\n",
       "      <td>...</td>\n",
       "      <td>...</td>\n",
       "      <td>...</td>\n",
       "      <td>...</td>\n",
       "      <td>...</td>\n",
       "      <td>...</td>\n",
       "      <td>...</td>\n",
       "    </tr>\n",
       "    <tr>\n",
       "      <th>3039</th>\n",
       "      <td>29/01/2015</td>\n",
       "      <td>Printvenue</td>\n",
       "      <td>NaN</td>\n",
       "      <td>NaN</td>\n",
       "      <td>NaN</td>\n",
       "      <td>Asia Pacific Internet Group</td>\n",
       "      <td>Private Equity</td>\n",
       "      <td>45,00,000</td>\n",
       "    </tr>\n",
       "    <tr>\n",
       "      <th>3040</th>\n",
       "      <td>29/01/2015</td>\n",
       "      <td>Graphene</td>\n",
       "      <td>NaN</td>\n",
       "      <td>NaN</td>\n",
       "      <td>NaN</td>\n",
       "      <td>KARSEMVEN Fund</td>\n",
       "      <td>Private Equity</td>\n",
       "      <td>8,25,000</td>\n",
       "    </tr>\n",
       "    <tr>\n",
       "      <th>3041</th>\n",
       "      <td>30/01/2015</td>\n",
       "      <td>Mad Street Den</td>\n",
       "      <td>NaN</td>\n",
       "      <td>NaN</td>\n",
       "      <td>NaN</td>\n",
       "      <td>Exfinity Fund, GrowX Ventures.</td>\n",
       "      <td>Private Equity</td>\n",
       "      <td>15,00,000</td>\n",
       "    </tr>\n",
       "    <tr>\n",
       "      <th>3042</th>\n",
       "      <td>30/01/2015</td>\n",
       "      <td>Simplotel</td>\n",
       "      <td>NaN</td>\n",
       "      <td>NaN</td>\n",
       "      <td>NaN</td>\n",
       "      <td>MakeMyTrip</td>\n",
       "      <td>Private Equity</td>\n",
       "      <td>NaN</td>\n",
       "    </tr>\n",
       "    <tr>\n",
       "      <th>3043</th>\n",
       "      <td>31/01/2015</td>\n",
       "      <td>couponmachine.in</td>\n",
       "      <td>NaN</td>\n",
       "      <td>NaN</td>\n",
       "      <td>NaN</td>\n",
       "      <td>UK based Group of Angel Investors</td>\n",
       "      <td>Seed Funding</td>\n",
       "      <td>1,40,000</td>\n",
       "    </tr>\n",
       "  </tbody>\n",
       "</table>\n",
       "<p>171 rows × 8 columns</p>\n",
       "</div>"
      ],
      "text/plain": [
       "            date      startup_name industry_vertical sub_vertical city  \\\n",
       "2873    2/3/2015    TrulyMadly.com               NaN          NaN  NaN   \n",
       "2874    2/3/2015       InstaLively               NaN          NaN  NaN   \n",
       "2875    3/3/2015             Vserv               NaN          NaN  NaN   \n",
       "2876    3/3/2015        Intruo.com               NaN          NaN  NaN   \n",
       "2877    5/3/2015           Niffler               NaN          NaN  NaN   \n",
       "...          ...               ...               ...          ...  ...   \n",
       "3039  29/01/2015        Printvenue               NaN          NaN  NaN   \n",
       "3040  29/01/2015          Graphene               NaN          NaN  NaN   \n",
       "3041  30/01/2015    Mad Street Den               NaN          NaN  NaN   \n",
       "3042  30/01/2015         Simplotel               NaN          NaN  NaN   \n",
       "3043  31/01/2015  couponmachine.in               NaN          NaN  NaN   \n",
       "\n",
       "                            investors_name investment_type  amount(USD)  \n",
       "2873  Helion Venture Partners, Kae Capital  Private Equity    55,00,000  \n",
       "2874              Group of Angel Investors    Seed Funding     1,20,000  \n",
       "2875  Maverick Capital, IDG Ventures India  Private Equity  1,50,00,000  \n",
       "2876  Ashutosh Lawania, Alok Goel & others    Seed Funding          NaN  \n",
       "2877                         SAIF Partners    Seed Funding    10,00,000  \n",
       "...                                    ...             ...          ...  \n",
       "3039           Asia Pacific Internet Group  Private Equity    45,00,000  \n",
       "3040                        KARSEMVEN Fund  Private Equity     8,25,000  \n",
       "3041        Exfinity Fund, GrowX Ventures.  Private Equity    15,00,000  \n",
       "3042                            MakeMyTrip  Private Equity          NaN  \n",
       "3043     UK based Group of Angel Investors    Seed Funding     1,40,000  \n",
       "\n",
       "[171 rows x 8 columns]"
      ]
     },
     "execution_count": 18,
     "metadata": {},
     "output_type": "execute_result"
    }
   ],
   "source": [
    "# Define : Replace all the values with \"no data\".\n",
    "df_copy[df_copy[\"industry_vertical\"].isnull()]"
   ]
  },
  {
   "cell_type": "code",
   "execution_count": 19,
   "id": "8f7d4023-18e9-4911-b9b7-7419847e1354",
   "metadata": {},
   "outputs": [],
   "source": [
    "# Code\n",
    "df_copy.fillna(\"no data\",inplace=True)"
   ]
  },
  {
   "cell_type": "code",
   "execution_count": 20,
   "id": "be87ca37-7189-4400-84e9-7500e2356022",
   "metadata": {},
   "outputs": [
    {
     "data": {
      "text/plain": [
       "date                 0\n",
       "startup_name         0\n",
       "industry_vertical    0\n",
       "sub_vertical         0\n",
       "city                 0\n",
       "investors_name       0\n",
       "investment_type      0\n",
       "amount(USD)          0\n",
       "dtype: int64"
      ]
     },
     "execution_count": 20,
     "metadata": {},
     "output_type": "execute_result"
    }
   ],
   "source": [
    "# Test\n",
    "df_copy.isnull().sum()"
   ]
  },
  {
   "cell_type": "markdown",
   "id": "4fd77e88-7cf4-48e0-a165-9e8a7d2c9a3d",
   "metadata": {},
   "source": [
    "### 2. Quality - Validity"
   ]
  },
  {
   "cell_type": "markdown",
   "id": "cd07e508-ed55-42fe-8980-a537d669a8aa",
   "metadata": {},
   "source": [
    "#### Working on Validity in date column."
   ]
  },
  {
   "cell_type": "code",
   "execution_count": 21,
   "id": "18af35fe-9908-47ee-b2e4-d0eee80e342f",
   "metadata": {},
   "outputs": [],
   "source": [
    "# df_copy"
   ]
  },
  {
   "cell_type": "code",
   "execution_count": 22,
   "id": "fe0c976f-7d2c-4d33-be96-1acaa2d1baf8",
   "metadata": {},
   "outputs": [],
   "source": [
    "# pd.to_datetime(df_copy[\"date\"])\n",
    "# We got the value error by running this code. We need to find the error by finding the date of 05/07/2018.\n",
    "# So we are writing one code to get if there are any date which contain less than 3 and more then 3 \"/\" in date column."
   ]
  },
  {
   "cell_type": "code",
   "execution_count": 23,
   "id": "03ff847e-9853-47ab-815c-fd1ac5d7c9be",
   "metadata": {},
   "outputs": [
    {
     "data": {
      "text/html": [
       "<div>\n",
       "<style scoped>\n",
       "    .dataframe tbody tr th:only-of-type {\n",
       "        vertical-align: middle;\n",
       "    }\n",
       "\n",
       "    .dataframe tbody tr th {\n",
       "        vertical-align: top;\n",
       "    }\n",
       "\n",
       "    .dataframe thead th {\n",
       "        text-align: right;\n",
       "    }\n",
       "</style>\n",
       "<table border=\"1\" class=\"dataframe\">\n",
       "  <thead>\n",
       "    <tr style=\"text-align: right;\">\n",
       "      <th></th>\n",
       "      <th>date</th>\n",
       "      <th>startup_name</th>\n",
       "      <th>industry_vertical</th>\n",
       "      <th>sub_vertical</th>\n",
       "      <th>city</th>\n",
       "      <th>investors_name</th>\n",
       "      <th>investment_type</th>\n",
       "      <th>amount(USD)</th>\n",
       "    </tr>\n",
       "  </thead>\n",
       "  <tbody>\n",
       "    <tr>\n",
       "      <th>192</th>\n",
       "      <td>05/072018</td>\n",
       "      <td>Loan Tap</td>\n",
       "      <td>Consumer Internet</td>\n",
       "      <td>Online Lending Platform For Salaried Professio...</td>\n",
       "      <td>Mumbai</td>\n",
       "      <td>Shunwei Capital, Tuscan Ventures, Ashish Goenk...</td>\n",
       "      <td>Private Equity</td>\n",
       "      <td>62,50,000</td>\n",
       "    </tr>\n",
       "    <tr>\n",
       "      <th>2775</th>\n",
       "      <td>12/05.2015</td>\n",
       "      <td>Mobiefit</td>\n",
       "      <td>Mobile Fitness App</td>\n",
       "      <td>no data</td>\n",
       "      <td>Goa</td>\n",
       "      <td>Prototyze</td>\n",
       "      <td>Seed Funding</td>\n",
       "      <td>no data</td>\n",
       "    </tr>\n",
       "    <tr>\n",
       "      <th>2776</th>\n",
       "      <td>12/05.2015</td>\n",
       "      <td>Plancess</td>\n",
       "      <td>Online Education Platform</td>\n",
       "      <td>no data</td>\n",
       "      <td>Mumbai</td>\n",
       "      <td>Rajendra Gogri,\\\\xc2\\\\xa0 Chandrakant Gogri</td>\n",
       "      <td>Seed Funding</td>\n",
       "      <td>20,00,000</td>\n",
       "    </tr>\n",
       "    <tr>\n",
       "      <th>2831</th>\n",
       "      <td>13/04.2015</td>\n",
       "      <td>The Porter</td>\n",
       "      <td>Logistics Tech</td>\n",
       "      <td>no data</td>\n",
       "      <td>Mumbai</td>\n",
       "      <td>Kae Capital</td>\n",
       "      <td>Seed Funding</td>\n",
       "      <td>5,00,000</td>\n",
       "    </tr>\n",
       "    <tr>\n",
       "      <th>3011</th>\n",
       "      <td>15/01.2015</td>\n",
       "      <td>Wishberry</td>\n",
       "      <td>no data</td>\n",
       "      <td>no data</td>\n",
       "      <td>no data</td>\n",
       "      <td>Rajan Anandan, Shankar Mahadevan, Deep Kalra &amp;...</td>\n",
       "      <td>Seed Funding</td>\n",
       "      <td>6,50,000</td>\n",
       "    </tr>\n",
       "    <tr>\n",
       "      <th>3029</th>\n",
       "      <td>22/01//2015</td>\n",
       "      <td>Corporate360</td>\n",
       "      <td>no data</td>\n",
       "      <td>no data</td>\n",
       "      <td>no data</td>\n",
       "      <td>Group of Angel Investors</td>\n",
       "      <td>Seed Funding</td>\n",
       "      <td>2,00,000</td>\n",
       "    </tr>\n",
       "  </tbody>\n",
       "</table>\n",
       "</div>"
      ],
      "text/plain": [
       "             date  startup_name          industry_vertical  \\\n",
       "192     05/072018      Loan Tap          Consumer Internet   \n",
       "2775   12/05.2015      Mobiefit         Mobile Fitness App   \n",
       "2776   12/05.2015      Plancess  Online Education Platform   \n",
       "2831   13/04.2015    The Porter             Logistics Tech   \n",
       "3011   15/01.2015     Wishberry                    no data   \n",
       "3029  22/01//2015  Corporate360                    no data   \n",
       "\n",
       "                                           sub_vertical     city  \\\n",
       "192   Online Lending Platform For Salaried Professio...   Mumbai   \n",
       "2775                                            no data      Goa   \n",
       "2776                                            no data   Mumbai   \n",
       "2831                                            no data   Mumbai   \n",
       "3011                                            no data  no data   \n",
       "3029                                            no data  no data   \n",
       "\n",
       "                                         investors_name investment_type  \\\n",
       "192   Shunwei Capital, Tuscan Ventures, Ashish Goenk...  Private Equity   \n",
       "2775                                          Prototyze    Seed Funding   \n",
       "2776        Rajendra Gogri,\\\\xc2\\\\xa0 Chandrakant Gogri    Seed Funding   \n",
       "2831                                        Kae Capital    Seed Funding   \n",
       "3011  Rajan Anandan, Shankar Mahadevan, Deep Kalra &...    Seed Funding   \n",
       "3029                           Group of Angel Investors    Seed Funding   \n",
       "\n",
       "     amount(USD)  \n",
       "192    62,50,000  \n",
       "2775     no data  \n",
       "2776   20,00,000  \n",
       "2831    5,00,000  \n",
       "3011    6,50,000  \n",
       "3029    2,00,000  "
      ]
     },
     "execution_count": 23,
     "metadata": {},
     "output_type": "execute_result"
    }
   ],
   "source": [
    "# Define : Convert data type of date into datetime.\n",
    "df_copy[df_copy[\"date\"].apply(lambda x : True if x.count(\"/\") <= 1 or x.count(\"/\") > 2 else False)]"
   ]
  },
  {
   "cell_type": "code",
   "execution_count": 24,
   "id": "c3afc841-d028-47fb-8c14-d84e26c173cb",
   "metadata": {},
   "outputs": [],
   "source": [
    "# Code\n",
    "df_copy[\"date\"] = df_copy[\"date\"].str.replace(\".\",\"/\").str.replace(\"//\",\"/\")"
   ]
  },
  {
   "cell_type": "code",
   "execution_count": 25,
   "id": "670a027e-44ce-49c0-87b9-363e23739d0d",
   "metadata": {},
   "outputs": [
    {
     "data": {
      "text/plain": [
       "'05/072018'"
      ]
     },
     "execution_count": 25,
     "metadata": {},
     "output_type": "execute_result"
    }
   ],
   "source": [
    "df_copy[\"date\"].iloc[192]"
   ]
  },
  {
   "cell_type": "code",
   "execution_count": 26,
   "id": "2e0ee800-0c51-4bbb-97b0-d796eea43f30",
   "metadata": {},
   "outputs": [
    {
     "data": {
      "text/plain": [
       "'01/07/015'"
      ]
     },
     "execution_count": 26,
     "metadata": {},
     "output_type": "execute_result"
    }
   ],
   "source": [
    "df_copy[\"date\"].iloc[2571]"
   ]
  },
  {
   "cell_type": "code",
   "execution_count": 27,
   "id": "9592b2c3-4b28-4abb-9667-d819c0f3fd03",
   "metadata": {},
   "outputs": [
    {
     "data": {
      "text/plain": [
       "'\\\\\\\\xc2\\\\\\\\xa010/7/2015'"
      ]
     },
     "execution_count": 27,
     "metadata": {},
     "output_type": "execute_result"
    }
   ],
   "source": [
    "df_copy[\"date\"][2606]"
   ]
  },
  {
   "cell_type": "code",
   "execution_count": 28,
   "id": "8bf421b2-6cf6-4aba-9ee5-901c3db6f02d",
   "metadata": {},
   "outputs": [],
   "source": [
    "df_copy[\"date\"].iloc[192]  = \"05/07/2018\"\n",
    "df_copy[\"date\"].iloc[2571] = \"01/07/2015\"\n",
    "df_copy[\"date\"].iloc[2606] = \"10/07/2015\""
   ]
  },
  {
   "cell_type": "code",
   "execution_count": 29,
   "id": "38c64d74-0256-4d6e-a443-72edbe1a58c3",
   "metadata": {},
   "outputs": [],
   "source": [
    "df_copy[\"date\"] = pd.to_datetime(df_copy[\"date\"])"
   ]
  },
  {
   "cell_type": "code",
   "execution_count": 30,
   "id": "4feb2b98-207e-494f-a7f8-dc9f251d175d",
   "metadata": {},
   "outputs": [
    {
     "name": "stdout",
     "output_type": "stream",
     "text": [
      "<class 'pandas.core.frame.DataFrame'>\n",
      "RangeIndex: 3044 entries, 0 to 3043\n",
      "Data columns (total 8 columns):\n",
      " #   Column             Non-Null Count  Dtype         \n",
      "---  ------             --------------  -----         \n",
      " 0   date               3044 non-null   datetime64[ns]\n",
      " 1   startup_name       3044 non-null   object        \n",
      " 2   industry_vertical  3044 non-null   object        \n",
      " 3   sub_vertical       3044 non-null   object        \n",
      " 4   city               3044 non-null   object        \n",
      " 5   investors_name     3044 non-null   object        \n",
      " 6   investment_type    3044 non-null   object        \n",
      " 7   amount(USD)        3044 non-null   object        \n",
      "dtypes: datetime64[ns](1), object(7)\n",
      "memory usage: 190.4+ KB\n"
     ]
    }
   ],
   "source": [
    "# Test\n",
    "df_copy.info()"
   ]
  },
  {
   "cell_type": "code",
   "execution_count": null,
   "id": "8e466962-d0a5-472a-b181-0be569b7c90b",
   "metadata": {},
   "outputs": [],
   "source": []
  },
  {
   "cell_type": "markdown",
   "id": "37a3ed00-2268-47a1-896a-7dfdc64dc748",
   "metadata": {},
   "source": [
    "#### Working on validity in amount USD column."
   ]
  },
  {
   "cell_type": "code",
   "execution_count": 31,
   "id": "75a512c5-3b4d-4754-8809-dd78f0bf93d9",
   "metadata": {},
   "outputs": [
    {
     "data": {
      "text/plain": [
       "0       20,00,00,000\n",
       "1          80,48,394\n",
       "2        1,83,58,860\n",
       "3          30,00,000\n",
       "4          18,00,000\n",
       "            ...     \n",
       "3039       45,00,000\n",
       "3040        8,25,000\n",
       "3041       15,00,000\n",
       "3042         no data\n",
       "3043        1,40,000\n",
       "Name: amount(USD), Length: 3044, dtype: object"
      ]
     },
     "execution_count": 31,
     "metadata": {},
     "output_type": "execute_result"
    }
   ],
   "source": [
    "# Define : Converting amount into indian rupees.\n",
    "df_copy[\"amount(USD)\"]"
   ]
  },
  {
   "cell_type": "code",
   "execution_count": 32,
   "id": "8b748fc6-145d-4ca6-99d6-4f5920835acb",
   "metadata": {},
   "outputs": [],
   "source": [
    "# Code\n",
    "df_copy[\"amount(USD)\"] = df_copy[\"amount(USD)\"].str.replace(\",\",\"\")\n",
    "df_copy[\"amount(USD)\"] = pd.to_numeric(df_copy[\"amount(USD)\"],errors=\"coerce\")"
   ]
  },
  {
   "cell_type": "code",
   "execution_count": 33,
   "id": "79f5cb5b-7f21-494e-877f-26f5c3f863bd",
   "metadata": {},
   "outputs": [],
   "source": [
    "# df_copy[\"amount(USD)\"] = df_copy[\"amount(USD)\"].fillna(df_copy[\"amount(USD)\"].mean())"
   ]
  },
  {
   "cell_type": "code",
   "execution_count": 34,
   "id": "dd02dc80-9102-4067-ace7-493da748b851",
   "metadata": {},
   "outputs": [],
   "source": [
    "df_copy[\"amount(USD)\"] = (df_copy[\"amount(USD)\"] * 83.25) / 10000000"
   ]
  },
  {
   "cell_type": "code",
   "execution_count": 35,
   "id": "662ec404-c5b5-4441-acbf-472e23753346",
   "metadata": {},
   "outputs": [],
   "source": [
    "df_copy.rename(columns={\"amount(USD)\":\"amount_cr\"},inplace= True)"
   ]
  },
  {
   "cell_type": "code",
   "execution_count": 36,
   "id": "7d91caa9-5c4f-42d6-81b2-bd309052653f",
   "metadata": {},
   "outputs": [
    {
     "data": {
      "text/plain": [
       "0       1665.000000\n",
       "1         67.002880\n",
       "2        152.837510\n",
       "3         24.975000\n",
       "4         14.985000\n",
       "           ...     \n",
       "3039      37.462500\n",
       "3040       6.868125\n",
       "3041      12.487500\n",
       "3042            NaN\n",
       "3043       1.165500\n",
       "Name: amount_cr, Length: 3044, dtype: float64"
      ]
     },
     "execution_count": 36,
     "metadata": {},
     "output_type": "execute_result"
    }
   ],
   "source": [
    "# Test\n",
    "df_copy[\"amount_cr\"]"
   ]
  },
  {
   "cell_type": "code",
   "execution_count": null,
   "id": "707c540f-34e5-4a91-b061-420f7a5a4089",
   "metadata": {},
   "outputs": [],
   "source": []
  },
  {
   "cell_type": "code",
   "execution_count": 37,
   "id": "70b06da3-257f-4e16-8ce4-103ccd223667",
   "metadata": {},
   "outputs": [
    {
     "data": {
      "text/html": [
       "<div>\n",
       "<style scoped>\n",
       "    .dataframe tbody tr th:only-of-type {\n",
       "        vertical-align: middle;\n",
       "    }\n",
       "\n",
       "    .dataframe tbody tr th {\n",
       "        vertical-align: top;\n",
       "    }\n",
       "\n",
       "    .dataframe thead th {\n",
       "        text-align: right;\n",
       "    }\n",
       "</style>\n",
       "<table border=\"1\" class=\"dataframe\">\n",
       "  <thead>\n",
       "    <tr style=\"text-align: right;\">\n",
       "      <th></th>\n",
       "      <th>date</th>\n",
       "      <th>startup_name</th>\n",
       "      <th>industry_vertical</th>\n",
       "      <th>sub_vertical</th>\n",
       "      <th>city</th>\n",
       "      <th>investors_name</th>\n",
       "      <th>investment_type</th>\n",
       "      <th>amount_cr</th>\n",
       "    </tr>\n",
       "  </thead>\n",
       "  <tbody>\n",
       "    <tr>\n",
       "      <th>0</th>\n",
       "      <td>2020-09-01</td>\n",
       "      <td>BYJU’S</td>\n",
       "      <td>E-Tech</td>\n",
       "      <td>E-learning</td>\n",
       "      <td>Bengaluru</td>\n",
       "      <td>Tiger Global Management</td>\n",
       "      <td>Private Equity Round</td>\n",
       "      <td>1665.000000</td>\n",
       "    </tr>\n",
       "    <tr>\n",
       "      <th>1</th>\n",
       "      <td>2020-01-13</td>\n",
       "      <td>Shuttl</td>\n",
       "      <td>Transportation</td>\n",
       "      <td>App based shuttle service</td>\n",
       "      <td>Gurgaon</td>\n",
       "      <td>Susquehanna Growth Equity</td>\n",
       "      <td>Series C</td>\n",
       "      <td>67.002880</td>\n",
       "    </tr>\n",
       "    <tr>\n",
       "      <th>2</th>\n",
       "      <td>2020-09-01</td>\n",
       "      <td>Mamaearth</td>\n",
       "      <td>E-commerce</td>\n",
       "      <td>Retailer of baby and toddler products</td>\n",
       "      <td>Bengaluru</td>\n",
       "      <td>Sequoia Capital India</td>\n",
       "      <td>Series B</td>\n",
       "      <td>152.837510</td>\n",
       "    </tr>\n",
       "    <tr>\n",
       "      <th>3</th>\n",
       "      <td>2020-02-01</td>\n",
       "      <td>https://www.wealthbucket.in/</td>\n",
       "      <td>FinTech</td>\n",
       "      <td>Online Investment</td>\n",
       "      <td>New Delhi</td>\n",
       "      <td>Vinod Khatumal</td>\n",
       "      <td>Pre-series A</td>\n",
       "      <td>24.975000</td>\n",
       "    </tr>\n",
       "    <tr>\n",
       "      <th>4</th>\n",
       "      <td>2020-02-01</td>\n",
       "      <td>Fashor</td>\n",
       "      <td>Fashion and Apparel</td>\n",
       "      <td>Embroiled Clothes For Women</td>\n",
       "      <td>Mumbai</td>\n",
       "      <td>Sprout Venture Partners</td>\n",
       "      <td>Seed Round</td>\n",
       "      <td>14.985000</td>\n",
       "    </tr>\n",
       "    <tr>\n",
       "      <th>...</th>\n",
       "      <td>...</td>\n",
       "      <td>...</td>\n",
       "      <td>...</td>\n",
       "      <td>...</td>\n",
       "      <td>...</td>\n",
       "      <td>...</td>\n",
       "      <td>...</td>\n",
       "      <td>...</td>\n",
       "    </tr>\n",
       "    <tr>\n",
       "      <th>3039</th>\n",
       "      <td>2015-01-29</td>\n",
       "      <td>Printvenue</td>\n",
       "      <td>no data</td>\n",
       "      <td>no data</td>\n",
       "      <td>no data</td>\n",
       "      <td>Asia Pacific Internet Group</td>\n",
       "      <td>Private Equity</td>\n",
       "      <td>37.462500</td>\n",
       "    </tr>\n",
       "    <tr>\n",
       "      <th>3040</th>\n",
       "      <td>2015-01-29</td>\n",
       "      <td>Graphene</td>\n",
       "      <td>no data</td>\n",
       "      <td>no data</td>\n",
       "      <td>no data</td>\n",
       "      <td>KARSEMVEN Fund</td>\n",
       "      <td>Private Equity</td>\n",
       "      <td>6.868125</td>\n",
       "    </tr>\n",
       "    <tr>\n",
       "      <th>3041</th>\n",
       "      <td>2015-01-30</td>\n",
       "      <td>Mad Street Den</td>\n",
       "      <td>no data</td>\n",
       "      <td>no data</td>\n",
       "      <td>no data</td>\n",
       "      <td>Exfinity Fund, GrowX Ventures.</td>\n",
       "      <td>Private Equity</td>\n",
       "      <td>12.487500</td>\n",
       "    </tr>\n",
       "    <tr>\n",
       "      <th>3042</th>\n",
       "      <td>2015-01-30</td>\n",
       "      <td>Simplotel</td>\n",
       "      <td>no data</td>\n",
       "      <td>no data</td>\n",
       "      <td>no data</td>\n",
       "      <td>MakeMyTrip</td>\n",
       "      <td>Private Equity</td>\n",
       "      <td>NaN</td>\n",
       "    </tr>\n",
       "    <tr>\n",
       "      <th>3043</th>\n",
       "      <td>2015-01-31</td>\n",
       "      <td>couponmachine.in</td>\n",
       "      <td>no data</td>\n",
       "      <td>no data</td>\n",
       "      <td>no data</td>\n",
       "      <td>UK based Group of Angel Investors</td>\n",
       "      <td>Seed Funding</td>\n",
       "      <td>1.165500</td>\n",
       "    </tr>\n",
       "  </tbody>\n",
       "</table>\n",
       "<p>3044 rows × 8 columns</p>\n",
       "</div>"
      ],
      "text/plain": [
       "           date                  startup_name    industry_vertical  \\\n",
       "0    2020-09-01                        BYJU’S               E-Tech   \n",
       "1    2020-01-13                        Shuttl       Transportation   \n",
       "2    2020-09-01                     Mamaearth           E-commerce   \n",
       "3    2020-02-01  https://www.wealthbucket.in/              FinTech   \n",
       "4    2020-02-01                        Fashor  Fashion and Apparel   \n",
       "...         ...                           ...                  ...   \n",
       "3039 2015-01-29                    Printvenue              no data   \n",
       "3040 2015-01-29                      Graphene              no data   \n",
       "3041 2015-01-30                Mad Street Den              no data   \n",
       "3042 2015-01-30                     Simplotel              no data   \n",
       "3043 2015-01-31              couponmachine.in              no data   \n",
       "\n",
       "                               sub_vertical       city  \\\n",
       "0                                E-learning  Bengaluru   \n",
       "1                 App based shuttle service    Gurgaon   \n",
       "2     Retailer of baby and toddler products  Bengaluru   \n",
       "3                         Online Investment  New Delhi   \n",
       "4               Embroiled Clothes For Women     Mumbai   \n",
       "...                                     ...        ...   \n",
       "3039                                no data    no data   \n",
       "3040                                no data    no data   \n",
       "3041                                no data    no data   \n",
       "3042                                no data    no data   \n",
       "3043                                no data    no data   \n",
       "\n",
       "                         investors_name       investment_type    amount_cr  \n",
       "0               Tiger Global Management  Private Equity Round  1665.000000  \n",
       "1             Susquehanna Growth Equity              Series C    67.002880  \n",
       "2                 Sequoia Capital India              Series B   152.837510  \n",
       "3                        Vinod Khatumal          Pre-series A    24.975000  \n",
       "4               Sprout Venture Partners            Seed Round    14.985000  \n",
       "...                                 ...                   ...          ...  \n",
       "3039        Asia Pacific Internet Group        Private Equity    37.462500  \n",
       "3040                     KARSEMVEN Fund        Private Equity     6.868125  \n",
       "3041     Exfinity Fund, GrowX Ventures.        Private Equity    12.487500  \n",
       "3042                         MakeMyTrip        Private Equity          NaN  \n",
       "3043  UK based Group of Angel Investors          Seed Funding     1.165500  \n",
       "\n",
       "[3044 rows x 8 columns]"
      ]
     },
     "execution_count": 37,
     "metadata": {},
     "output_type": "execute_result"
    }
   ],
   "source": [
    "df_copy"
   ]
  },
  {
   "cell_type": "code",
   "execution_count": 38,
   "id": "c79d70e8-4832-4a06-889c-aa819550ce7b",
   "metadata": {},
   "outputs": [],
   "source": [
    "def clean_my_column(column_name):\n",
    "    special_char = [\"\\\\\\\\xe2\\\\\\\\x80\\\\\\\\x99s\",\"\\\\\\\\xe2\\\\\\\\x80\\\\\\\\x99\",\"\\\\\\\\xc2\\\\\\\\xa0\",\"\\\\\\\\xc3\\\\\\\\x98\",\"\\\\xe2\\\\x80\\\\x93\",\"\\\\\\\\n\",\"\\\\\\\\xc3\\\\\\\\xa\",\"\\\\xe2\\\\x80\\\\x99s\"]\n",
    "    special_char2 = \"\\\\\\\\xc3\\\\\\\\xa9\"\n",
    "    \n",
    "    for char in special_char:\n",
    "        # df_copy[column_name] = df_copy[column_name].replace(char,\"\")\n",
    "        df_copy[column_name] = df_copy[column_name].apply(lambda x : str(x).replace(char,\"\"))\n",
    "    \n",
    "    df_copy[column_name] = df_copy[column_name].apply(lambda x : str(x).replace(special_char2,\"\"))\n",
    "    \n",
    "    # df_copy[column_name] = df_copy[column_name].replace(special_char2,\"e\")\n",
    "    df_copy[column_name] = df_copy[column_name].str.strip()\n",
    "    df_copy[column_name] = df_copy[column_name].replace(\"nan\",np.nan)"
   ]
  },
  {
   "cell_type": "code",
   "execution_count": null,
   "id": "d4110220-6d2d-429e-ad26-7084a519deaf",
   "metadata": {},
   "outputs": [],
   "source": []
  },
  {
   "cell_type": "markdown",
   "id": "15d9494a-62b9-4a76-90ab-715b10d3fd94",
   "metadata": {},
   "source": [
    "### 3. Quality - Accuracy"
   ]
  },
  {
   "cell_type": "markdown",
   "id": "36e04555-83e5-400c-9ae2-d9bd37eab078",
   "metadata": {
    "tags": []
   },
   "source": [
    "#### Working on accuracy in startup_name"
   ]
  },
  {
   "cell_type": "code",
   "execution_count": 39,
   "id": "2b40a510-8c93-44b5-abdf-3115b6079c2c",
   "metadata": {},
   "outputs": [],
   "source": [
    "# Define : Remove all .io,.com,.in and change wealthbucket, byju's name from the dataset.\n",
    "\n",
    "first = [\"https://www.wealthbucket.in/\",'\"BYJU\\\\\\\\\\'S\"',\".com\",\".io\",\".in\"]\n",
    "second = [\"wealthbucket\",\"BYJU'S\",\"\",\"\",\"\"]"
   ]
  },
  {
   "cell_type": "code",
   "execution_count": 40,
   "id": "8d807c07-4ca5-4c96-b955-a08bcb4a5da0",
   "metadata": {},
   "outputs": [],
   "source": [
    "# Code\n",
    "for i in range(len(first)):\n",
    "    df_copy[\"startup_name\"] = df_copy[\"startup_name\"].apply(lambda x : x.replace(first[i],second[i]))"
   ]
  },
  {
   "cell_type": "code",
   "execution_count": 41,
   "id": "0c7e45b3-dfd9-4576-bda1-6cae65af5123",
   "metadata": {},
   "outputs": [
    {
     "data": {
      "text/plain": [
       "'wealthbucket'"
      ]
     },
     "execution_count": 41,
     "metadata": {},
     "output_type": "execute_result"
    }
   ],
   "source": [
    "# Test\n",
    "df_copy.iloc[3][1]"
   ]
  },
  {
   "cell_type": "code",
   "execution_count": 42,
   "id": "fb79c3e9-7d66-4dde-aa92-e404f3f59119",
   "metadata": {},
   "outputs": [
    {
     "data": {
      "text/plain": [
       "'Carl\\\\\\\\xe2\\\\\\\\x80\\\\\\\\x99s Jr'"
      ]
     },
     "execution_count": 42,
     "metadata": {},
     "output_type": "execute_result"
    }
   ],
   "source": [
    "# Define : Remove all the unicode character from startup name.\n",
    "df_copy.iloc[2495][1]"
   ]
  },
  {
   "cell_type": "code",
   "execution_count": 43,
   "id": "7b42ea88-ffa1-46e8-b8b0-bfee997972c4",
   "metadata": {},
   "outputs": [],
   "source": [
    "# Code\n",
    "clean_my_column(\"startup_name\")"
   ]
  },
  {
   "cell_type": "code",
   "execution_count": 44,
   "id": "e2f5835c-2415-44b3-a33a-23ab2d2eaa8f",
   "metadata": {},
   "outputs": [
    {
     "data": {
      "text/plain": [
       "'Carl Jr'"
      ]
     },
     "execution_count": 44,
     "metadata": {},
     "output_type": "execute_result"
    }
   ],
   "source": [
    "# Test\n",
    "df_copy.iloc[2495][1]"
   ]
  },
  {
   "cell_type": "code",
   "execution_count": 45,
   "id": "ee05fc15-bb93-4f44-9c56-e9be74b035b3",
   "metadata": {},
   "outputs": [],
   "source": [
    "# df_copy.loc[2504][1]"
   ]
  },
  {
   "cell_type": "code",
   "execution_count": 46,
   "id": "c964a58a-3e96-4515-abce-9a20c9dded6c",
   "metadata": {},
   "outputs": [],
   "source": [
    "# df_copy.iloc[67][1]"
   ]
  },
  {
   "cell_type": "code",
   "execution_count": 47,
   "id": "c5f9a79f-c175-4610-a912-48d7b70c737c",
   "metadata": {},
   "outputs": [],
   "source": [
    "# df_copy.iloc[2013][1]"
   ]
  },
  {
   "cell_type": "code",
   "execution_count": 48,
   "id": "67b84acf-f6cc-4815-b31d-ad251ae587f4",
   "metadata": {},
   "outputs": [],
   "source": [
    "# df_copy.loc[2720][1]"
   ]
  },
  {
   "cell_type": "code",
   "execution_count": 49,
   "id": "d320fc8a-68b8-43f4-9206-6465c7bdea70",
   "metadata": {},
   "outputs": [],
   "source": [
    "# df_copy.loc[2954][1]"
   ]
  },
  {
   "cell_type": "code",
   "execution_count": 50,
   "id": "c51ebee8-f4d7-4a51-9051-47a04a9e7ce0",
   "metadata": {},
   "outputs": [],
   "source": [
    "# df_copy.loc[1394][1]"
   ]
  },
  {
   "cell_type": "code",
   "execution_count": 51,
   "id": "9ae96c2f-58e7-4f31-868d-983d635f430a",
   "metadata": {},
   "outputs": [],
   "source": [
    "# df_copy.loc[2606]"
   ]
  },
  {
   "cell_type": "code",
   "execution_count": null,
   "id": "8e6723be-781c-4b12-8d3c-8f9b8d17163b",
   "metadata": {},
   "outputs": [],
   "source": []
  },
  {
   "cell_type": "markdown",
   "id": "8bdfb843-c92c-4383-8764-22e15e10d83c",
   "metadata": {},
   "source": [
    "#### Working on accuracy and consistency in City column"
   ]
  },
  {
   "cell_type": "code",
   "execution_count": 52,
   "id": "cc981ef7-aa65-418d-94c9-1ff5ddcb0ca0",
   "metadata": {},
   "outputs": [
    {
     "data": {
      "text/html": [
       "<div>\n",
       "<style scoped>\n",
       "    .dataframe tbody tr th:only-of-type {\n",
       "        vertical-align: middle;\n",
       "    }\n",
       "\n",
       "    .dataframe tbody tr th {\n",
       "        vertical-align: top;\n",
       "    }\n",
       "\n",
       "    .dataframe thead th {\n",
       "        text-align: right;\n",
       "    }\n",
       "</style>\n",
       "<table border=\"1\" class=\"dataframe\">\n",
       "  <thead>\n",
       "    <tr style=\"text-align: right;\">\n",
       "      <th></th>\n",
       "      <th>date</th>\n",
       "      <th>startup_name</th>\n",
       "      <th>industry_vertical</th>\n",
       "      <th>sub_vertical</th>\n",
       "      <th>city</th>\n",
       "      <th>investors_name</th>\n",
       "      <th>investment_type</th>\n",
       "      <th>amount_cr</th>\n",
       "    </tr>\n",
       "  </thead>\n",
       "  <tbody>\n",
       "    <tr>\n",
       "      <th>0</th>\n",
       "      <td>2020-09-01</td>\n",
       "      <td>BYJU’S</td>\n",
       "      <td>E-Tech</td>\n",
       "      <td>E-learning</td>\n",
       "      <td>Bengaluru</td>\n",
       "      <td>Tiger Global Management</td>\n",
       "      <td>Private Equity Round</td>\n",
       "      <td>1665.00000</td>\n",
       "    </tr>\n",
       "    <tr>\n",
       "      <th>1</th>\n",
       "      <td>2020-01-13</td>\n",
       "      <td>Shuttl</td>\n",
       "      <td>Transportation</td>\n",
       "      <td>App based shuttle service</td>\n",
       "      <td>Gurgaon</td>\n",
       "      <td>Susquehanna Growth Equity</td>\n",
       "      <td>Series C</td>\n",
       "      <td>67.00288</td>\n",
       "    </tr>\n",
       "    <tr>\n",
       "      <th>2</th>\n",
       "      <td>2020-09-01</td>\n",
       "      <td>Mamaearth</td>\n",
       "      <td>E-commerce</td>\n",
       "      <td>Retailer of baby and toddler products</td>\n",
       "      <td>Bengaluru</td>\n",
       "      <td>Sequoia Capital India</td>\n",
       "      <td>Series B</td>\n",
       "      <td>152.83751</td>\n",
       "    </tr>\n",
       "    <tr>\n",
       "      <th>3</th>\n",
       "      <td>2020-02-01</td>\n",
       "      <td>wealthbucket</td>\n",
       "      <td>FinTech</td>\n",
       "      <td>Online Investment</td>\n",
       "      <td>New Delhi</td>\n",
       "      <td>Vinod Khatumal</td>\n",
       "      <td>Pre-series A</td>\n",
       "      <td>24.97500</td>\n",
       "    </tr>\n",
       "    <tr>\n",
       "      <th>4</th>\n",
       "      <td>2020-02-01</td>\n",
       "      <td>Fashor</td>\n",
       "      <td>Fashion and Apparel</td>\n",
       "      <td>Embroiled Clothes For Women</td>\n",
       "      <td>Mumbai</td>\n",
       "      <td>Sprout Venture Partners</td>\n",
       "      <td>Seed Round</td>\n",
       "      <td>14.98500</td>\n",
       "    </tr>\n",
       "  </tbody>\n",
       "</table>\n",
       "</div>"
      ],
      "text/plain": [
       "        date  startup_name    industry_vertical  \\\n",
       "0 2020-09-01        BYJU’S               E-Tech   \n",
       "1 2020-01-13        Shuttl       Transportation   \n",
       "2 2020-09-01     Mamaearth           E-commerce   \n",
       "3 2020-02-01  wealthbucket              FinTech   \n",
       "4 2020-02-01        Fashor  Fashion and Apparel   \n",
       "\n",
       "                            sub_vertical       city  \\\n",
       "0                             E-learning  Bengaluru   \n",
       "1              App based shuttle service    Gurgaon   \n",
       "2  Retailer of baby and toddler products  Bengaluru   \n",
       "3                      Online Investment  New Delhi   \n",
       "4            Embroiled Clothes For Women     Mumbai   \n",
       "\n",
       "              investors_name       investment_type   amount_cr  \n",
       "0    Tiger Global Management  Private Equity Round  1665.00000  \n",
       "1  Susquehanna Growth Equity              Series C    67.00288  \n",
       "2      Sequoia Capital India              Series B   152.83751  \n",
       "3             Vinod Khatumal          Pre-series A    24.97500  \n",
       "4    Sprout Venture Partners            Seed Round    14.98500  "
      ]
     },
     "execution_count": 52,
     "metadata": {},
     "output_type": "execute_result"
    }
   ],
   "source": [
    "# Define : Replace Bengaluru with Bangalore.\n",
    "df_copy.head()"
   ]
  },
  {
   "cell_type": "code",
   "execution_count": 53,
   "id": "be2b8e70-92d9-45f8-a7cc-444076ec69dc",
   "metadata": {},
   "outputs": [],
   "source": [
    "# Code\n",
    "df_copy[\"city\"] = df_copy[\"city\"].str.replace(\"Bengaluru\",\"Bangalore\")"
   ]
  },
  {
   "cell_type": "code",
   "execution_count": 54,
   "id": "a0d7fd31-6a35-4b6a-ae80-24a2b80d652a",
   "metadata": {},
   "outputs": [
    {
     "data": {
      "text/html": [
       "<div>\n",
       "<style scoped>\n",
       "    .dataframe tbody tr th:only-of-type {\n",
       "        vertical-align: middle;\n",
       "    }\n",
       "\n",
       "    .dataframe tbody tr th {\n",
       "        vertical-align: top;\n",
       "    }\n",
       "\n",
       "    .dataframe thead th {\n",
       "        text-align: right;\n",
       "    }\n",
       "</style>\n",
       "<table border=\"1\" class=\"dataframe\">\n",
       "  <thead>\n",
       "    <tr style=\"text-align: right;\">\n",
       "      <th></th>\n",
       "      <th>date</th>\n",
       "      <th>startup_name</th>\n",
       "      <th>industry_vertical</th>\n",
       "      <th>sub_vertical</th>\n",
       "      <th>city</th>\n",
       "      <th>investors_name</th>\n",
       "      <th>investment_type</th>\n",
       "      <th>amount_cr</th>\n",
       "    </tr>\n",
       "  </thead>\n",
       "  <tbody>\n",
       "    <tr>\n",
       "      <th>0</th>\n",
       "      <td>2020-09-01</td>\n",
       "      <td>BYJU’S</td>\n",
       "      <td>E-Tech</td>\n",
       "      <td>E-learning</td>\n",
       "      <td>Bangalore</td>\n",
       "      <td>Tiger Global Management</td>\n",
       "      <td>Private Equity Round</td>\n",
       "      <td>1665.00000</td>\n",
       "    </tr>\n",
       "    <tr>\n",
       "      <th>1</th>\n",
       "      <td>2020-01-13</td>\n",
       "      <td>Shuttl</td>\n",
       "      <td>Transportation</td>\n",
       "      <td>App based shuttle service</td>\n",
       "      <td>Gurgaon</td>\n",
       "      <td>Susquehanna Growth Equity</td>\n",
       "      <td>Series C</td>\n",
       "      <td>67.00288</td>\n",
       "    </tr>\n",
       "    <tr>\n",
       "      <th>2</th>\n",
       "      <td>2020-09-01</td>\n",
       "      <td>Mamaearth</td>\n",
       "      <td>E-commerce</td>\n",
       "      <td>Retailer of baby and toddler products</td>\n",
       "      <td>Bangalore</td>\n",
       "      <td>Sequoia Capital India</td>\n",
       "      <td>Series B</td>\n",
       "      <td>152.83751</td>\n",
       "    </tr>\n",
       "    <tr>\n",
       "      <th>3</th>\n",
       "      <td>2020-02-01</td>\n",
       "      <td>wealthbucket</td>\n",
       "      <td>FinTech</td>\n",
       "      <td>Online Investment</td>\n",
       "      <td>New Delhi</td>\n",
       "      <td>Vinod Khatumal</td>\n",
       "      <td>Pre-series A</td>\n",
       "      <td>24.97500</td>\n",
       "    </tr>\n",
       "    <tr>\n",
       "      <th>4</th>\n",
       "      <td>2020-02-01</td>\n",
       "      <td>Fashor</td>\n",
       "      <td>Fashion and Apparel</td>\n",
       "      <td>Embroiled Clothes For Women</td>\n",
       "      <td>Mumbai</td>\n",
       "      <td>Sprout Venture Partners</td>\n",
       "      <td>Seed Round</td>\n",
       "      <td>14.98500</td>\n",
       "    </tr>\n",
       "  </tbody>\n",
       "</table>\n",
       "</div>"
      ],
      "text/plain": [
       "        date  startup_name    industry_vertical  \\\n",
       "0 2020-09-01        BYJU’S               E-Tech   \n",
       "1 2020-01-13        Shuttl       Transportation   \n",
       "2 2020-09-01     Mamaearth           E-commerce   \n",
       "3 2020-02-01  wealthbucket              FinTech   \n",
       "4 2020-02-01        Fashor  Fashion and Apparel   \n",
       "\n",
       "                            sub_vertical       city  \\\n",
       "0                             E-learning  Bangalore   \n",
       "1              App based shuttle service    Gurgaon   \n",
       "2  Retailer of baby and toddler products  Bangalore   \n",
       "3                      Online Investment  New Delhi   \n",
       "4            Embroiled Clothes For Women     Mumbai   \n",
       "\n",
       "              investors_name       investment_type   amount_cr  \n",
       "0    Tiger Global Management  Private Equity Round  1665.00000  \n",
       "1  Susquehanna Growth Equity              Series C    67.00288  \n",
       "2      Sequoia Capital India              Series B   152.83751  \n",
       "3             Vinod Khatumal          Pre-series A    24.97500  \n",
       "4    Sprout Venture Partners            Seed Round    14.98500  "
      ]
     },
     "execution_count": 54,
     "metadata": {},
     "output_type": "execute_result"
    }
   ],
   "source": [
    "# Test\n",
    "df_copy.head()"
   ]
  },
  {
   "cell_type": "code",
   "execution_count": 55,
   "id": "afea8ae7-27fb-40af-bd5a-065f3a51f285",
   "metadata": {},
   "outputs": [],
   "source": [
    "# Define : Remove all the unicode character from city column.\n",
    "# Code\n",
    "clean_my_column(\"city\")"
   ]
  },
  {
   "cell_type": "code",
   "execution_count": 56,
   "id": "08bc9079-ce18-4bf1-91f0-1998cc8f53a3",
   "metadata": {},
   "outputs": [
    {
     "data": {
      "text/plain": [
       "[]"
      ]
     },
     "execution_count": 56,
     "metadata": {},
     "output_type": "execute_result"
    }
   ],
   "source": [
    "# Test\n",
    "[i for i in df_copy[\"city\"] if \"\\\\\" in i]"
   ]
  },
  {
   "cell_type": "code",
   "execution_count": 57,
   "id": "65ff4573-d78d-4406-84f3-96c76b64b71c",
   "metadata": {},
   "outputs": [],
   "source": [
    "# df_copy[df_copy[\"startup_name\"] == \"CarDekho\"]"
   ]
  },
  {
   "cell_type": "code",
   "execution_count": 58,
   "id": "022eaab2-3495-4707-8bd4-6ae4abd02fbc",
   "metadata": {},
   "outputs": [],
   "source": [
    "# df_copy[df_copy.duplicated(subset=[\"startup_name\"])]"
   ]
  },
  {
   "cell_type": "code",
   "execution_count": 59,
   "id": "67e56456-3b90-4dba-b24c-b19165e7df62",
   "metadata": {},
   "outputs": [],
   "source": [
    "# df_copy.isna().sum()"
   ]
  },
  {
   "cell_type": "markdown",
   "id": "a8fde4ff-eabf-4e09-9834-9998f5d3ef0d",
   "metadata": {},
   "source": [
    "#### Working on accuracy and consistency in Industry Vertical column"
   ]
  },
  {
   "cell_type": "code",
   "execution_count": 60,
   "id": "5c2e97ca-ad8f-4e5f-adfd-6cbb172f91bc",
   "metadata": {},
   "outputs": [],
   "source": [
    "# Define : Change the different ecommerce variant with same name.\n",
    "# Code\n",
    "df_copy[\"industry_vertical\"] = df_copy[\"industry_vertical\"].apply(lambda x : str(x).replace(\"ecommerce\",\"E-commerce\").replace(\"eCommerce\",\"E-commerce\").replace(\"ECommerce\",\"E-Commerce\").replace(\"E-commerce\",\"E-Commerce\"))"
   ]
  },
  {
   "cell_type": "code",
   "execution_count": 61,
   "id": "9efac543-9587-4274-9595-dc83263760da",
   "metadata": {},
   "outputs": [
    {
     "data": {
      "text/html": [
       "<div>\n",
       "<style scoped>\n",
       "    .dataframe tbody tr th:only-of-type {\n",
       "        vertical-align: middle;\n",
       "    }\n",
       "\n",
       "    .dataframe tbody tr th {\n",
       "        vertical-align: top;\n",
       "    }\n",
       "\n",
       "    .dataframe thead th {\n",
       "        text-align: right;\n",
       "    }\n",
       "</style>\n",
       "<table border=\"1\" class=\"dataframe\">\n",
       "  <thead>\n",
       "    <tr style=\"text-align: right;\">\n",
       "      <th></th>\n",
       "      <th>date</th>\n",
       "      <th>startup_name</th>\n",
       "      <th>industry_vertical</th>\n",
       "      <th>sub_vertical</th>\n",
       "      <th>city</th>\n",
       "      <th>investors_name</th>\n",
       "      <th>investment_type</th>\n",
       "      <th>amount_cr</th>\n",
       "    </tr>\n",
       "  </thead>\n",
       "  <tbody>\n",
       "  </tbody>\n",
       "</table>\n",
       "</div>"
      ],
      "text/plain": [
       "Empty DataFrame\n",
       "Columns: [date, startup_name, industry_vertical, sub_vertical, city, investors_name, investment_type, amount_cr]\n",
       "Index: []"
      ]
     },
     "execution_count": 61,
     "metadata": {},
     "output_type": "execute_result"
    }
   ],
   "source": [
    "# Test\n",
    "df_copy[df_copy[\"industry_vertical\"] == \"ecommerce\"]"
   ]
  },
  {
   "cell_type": "code",
   "execution_count": 62,
   "id": "58db937c-01c3-4b41-a2d1-ada1c32c255a",
   "metadata": {},
   "outputs": [],
   "source": [
    "# Define : Remove all the unicode character from industry vertical column.\n",
    "# Code\n",
    "clean_my_column(\"industry_vertical\")"
   ]
  },
  {
   "cell_type": "code",
   "execution_count": 63,
   "id": "618bc9e5-91fa-4a34-bc62-942eeee44201",
   "metadata": {},
   "outputs": [
    {
     "data": {
      "text/plain": [
       "[]"
      ]
     },
     "execution_count": 63,
     "metadata": {},
     "output_type": "execute_result"
    }
   ],
   "source": [
    "# Test\n",
    "[i for i in df_copy[\"industry_vertical\"] if \"\\\\\" in i]"
   ]
  },
  {
   "cell_type": "markdown",
   "id": "fce8e529-a3e7-4606-aad6-1992a170b4af",
   "metadata": {
    "tags": []
   },
   "source": [
    "#### Working on accuracy in Sub Vertical column"
   ]
  },
  {
   "cell_type": "code",
   "execution_count": 64,
   "id": "c327ef6b-51b8-4263-b58a-22be1c5672e4",
   "metadata": {},
   "outputs": [
    {
     "data": {
      "text/html": [
       "<div>\n",
       "<style scoped>\n",
       "    .dataframe tbody tr th:only-of-type {\n",
       "        vertical-align: middle;\n",
       "    }\n",
       "\n",
       "    .dataframe tbody tr th {\n",
       "        vertical-align: top;\n",
       "    }\n",
       "\n",
       "    .dataframe thead th {\n",
       "        text-align: right;\n",
       "    }\n",
       "</style>\n",
       "<table border=\"1\" class=\"dataframe\">\n",
       "  <thead>\n",
       "    <tr style=\"text-align: right;\">\n",
       "      <th></th>\n",
       "      <th>date</th>\n",
       "      <th>startup_name</th>\n",
       "      <th>industry_vertical</th>\n",
       "      <th>sub_vertical</th>\n",
       "      <th>city</th>\n",
       "      <th>investors_name</th>\n",
       "      <th>investment_type</th>\n",
       "      <th>amount_cr</th>\n",
       "    </tr>\n",
       "  </thead>\n",
       "  <tbody>\n",
       "    <tr>\n",
       "      <th>438</th>\n",
       "      <td>2017-07-12</td>\n",
       "      <td>eShakti</td>\n",
       "      <td>Ecommerce</td>\n",
       "      <td>\"Women\\\\'s Fashion Clothing Online Platform\"</td>\n",
       "      <td>Chennai</td>\n",
       "      <td>IDG Ventures</td>\n",
       "      <td>Debt Funding</td>\n",
       "      <td>19.1475</td>\n",
       "    </tr>\n",
       "  </tbody>\n",
       "</table>\n",
       "</div>"
      ],
      "text/plain": [
       "          date startup_name industry_vertical  \\\n",
       "438 2017-07-12      eShakti         Ecommerce   \n",
       "\n",
       "                                     sub_vertical     city investors_name  \\\n",
       "438  \"Women\\\\'s Fashion Clothing Online Platform\"  Chennai   IDG Ventures   \n",
       "\n",
       "    investment_type  amount_cr  \n",
       "438    Debt Funding    19.1475  "
      ]
     },
     "execution_count": 64,
     "metadata": {},
     "output_type": "execute_result"
    }
   ],
   "source": [
    "# Define : Remove \\\\\\\\ in sub_vertical column at 438 index.\n",
    "df_copy.iloc[[438]]"
   ]
  },
  {
   "cell_type": "code",
   "execution_count": 65,
   "id": "59b67fcb-5213-4d0d-bdea-f29b3cf15e89",
   "metadata": {},
   "outputs": [],
   "source": [
    "# Code\n",
    "df_copy.loc[438,\"sub_vertical\"] = \"Women's Fashion Clothing Online Platform\""
   ]
  },
  {
   "cell_type": "code",
   "execution_count": 66,
   "id": "cd1bfdcf-8427-4c74-8633-0861a9f57777",
   "metadata": {},
   "outputs": [
    {
     "data": {
      "text/plain": [
       "date                                      2017-07-12 00:00:00\n",
       "startup_name                                          eShakti\n",
       "industry_vertical                                   Ecommerce\n",
       "sub_vertical         Women's Fashion Clothing Online Platform\n",
       "city                                                  Chennai\n",
       "investors_name                                   IDG Ventures\n",
       "investment_type                                  Debt Funding\n",
       "amount_cr                                             19.1475\n",
       "Name: 438, dtype: object"
      ]
     },
     "execution_count": 66,
     "metadata": {},
     "output_type": "execute_result"
    }
   ],
   "source": [
    "# Test\n",
    "df_copy.iloc[438]"
   ]
  },
  {
   "cell_type": "code",
   "execution_count": 67,
   "id": "4a001656-de14-42df-9f3e-89fbe9b22e41",
   "metadata": {},
   "outputs": [],
   "source": [
    "# Define : Remove all the unicode character from sub_vertical column.\n",
    "# Code \n",
    "clean_my_column(\"sub_vertical\")"
   ]
  },
  {
   "cell_type": "code",
   "execution_count": 68,
   "id": "b084cbdb-deeb-4e4b-8e13-8d2c775af91a",
   "metadata": {},
   "outputs": [
    {
     "data": {
      "text/plain": [
       "[]"
      ]
     },
     "execution_count": 68,
     "metadata": {},
     "output_type": "execute_result"
    }
   ],
   "source": [
    "# Test\n",
    "[i for i in df_copy[\"sub_vertical\"] if \"\\\\\" in i]"
   ]
  },
  {
   "cell_type": "markdown",
   "id": "debfdceb-6caf-48dd-a47b-d1b414830af5",
   "metadata": {
    "tags": []
   },
   "source": [
    "#### Working on accuracy in Investor Name column"
   ]
  },
  {
   "cell_type": "code",
   "execution_count": 69,
   "id": "bf8e787d-0e73-4cf2-ac28-ff69082d27fa",
   "metadata": {},
   "outputs": [],
   "source": [
    "# df_copy[\"investors_name\"].fillna(\"Unknown\",inplace=True)"
   ]
  },
  {
   "cell_type": "code",
   "execution_count": 70,
   "id": "985d6b42-d4ab-465f-8ac2-8737880c206c",
   "metadata": {},
   "outputs": [],
   "source": [
    "# Define : Change softbank name to softbank group in same format.\n",
    "# Code\n",
    "df_copy[\"investors_name\"] = df_copy[\"investors_name\"].apply(lambda x : x.replace(\"Softbank\",\"Softbank Group\").replace(\"SoftBank Group\",\"Softbank Group\").replace('\"Kedaraa Capital, Ontario Teachers\\\\\\\\\\'\"',\"Kedaraa Capital, Ontario Teachers\"))"
   ]
  },
  {
   "cell_type": "code",
   "execution_count": 71,
   "id": "497f33c6-32c8-41eb-9fac-229a89dba5dc",
   "metadata": {},
   "outputs": [
    {
     "data": {
      "text/html": [
       "<div>\n",
       "<style scoped>\n",
       "    .dataframe tbody tr th:only-of-type {\n",
       "        vertical-align: middle;\n",
       "    }\n",
       "\n",
       "    .dataframe tbody tr th {\n",
       "        vertical-align: top;\n",
       "    }\n",
       "\n",
       "    .dataframe thead th {\n",
       "        text-align: right;\n",
       "    }\n",
       "</style>\n",
       "<table border=\"1\" class=\"dataframe\">\n",
       "  <thead>\n",
       "    <tr style=\"text-align: right;\">\n",
       "      <th></th>\n",
       "      <th>date</th>\n",
       "      <th>startup_name</th>\n",
       "      <th>industry_vertical</th>\n",
       "      <th>sub_vertical</th>\n",
       "      <th>city</th>\n",
       "      <th>investors_name</th>\n",
       "      <th>investment_type</th>\n",
       "      <th>amount_cr</th>\n",
       "    </tr>\n",
       "  </thead>\n",
       "  <tbody>\n",
       "  </tbody>\n",
       "</table>\n",
       "</div>"
      ],
      "text/plain": [
       "Empty DataFrame\n",
       "Columns: [date, startup_name, industry_vertical, sub_vertical, city, investors_name, investment_type, amount_cr]\n",
       "Index: []"
      ]
     },
     "execution_count": 71,
     "metadata": {},
     "output_type": "execute_result"
    }
   ],
   "source": [
    "# Test\n",
    "df_copy[df_copy[\"investors_name\"] == \"Softbank\"]"
   ]
  },
  {
   "cell_type": "code",
   "execution_count": 72,
   "id": "e29aee36-d1e2-4447-913d-702497eb3b63",
   "metadata": {},
   "outputs": [],
   "source": [
    "# Define : Remove all the unicode character from investors_name.\n",
    "# Code\n",
    "clean_my_column(\"investors_name\")"
   ]
  },
  {
   "cell_type": "code",
   "execution_count": 73,
   "id": "20edd3a7-62a9-4a5f-a000-e9b7d22fc4cd",
   "metadata": {},
   "outputs": [
    {
     "data": {
      "text/plain": [
       "[]"
      ]
     },
     "execution_count": 73,
     "metadata": {},
     "output_type": "execute_result"
    }
   ],
   "source": [
    "# Test\n",
    "[i for i in df_copy[\"investors_name\"] if \"\\\\\" in i]"
   ]
  },
  {
   "cell_type": "markdown",
   "id": "766c88d3-a37f-49ba-9f11-17e04655ef8d",
   "metadata": {},
   "source": [
    "### 4. Quality : Consistency"
   ]
  },
  {
   "cell_type": "markdown",
   "id": "054cb248-0c64-4315-a91e-a4f3e6c4c1c1",
   "metadata": {},
   "source": [
    "#### Working on Consistency in investment_type."
   ]
  },
  {
   "cell_type": "code",
   "execution_count": 74,
   "id": "f1ad29d4-6caa-4f30-9138-971b27ec8075",
   "metadata": {},
   "outputs": [
    {
     "data": {
      "text/plain": [
       "0       False\n",
       "1        True\n",
       "2        True\n",
       "3       False\n",
       "4       False\n",
       "        ...  \n",
       "3039    False\n",
       "3040    False\n",
       "3041    False\n",
       "3042    False\n",
       "3043    False\n",
       "Name: investment_type, Length: 3044, dtype: bool"
      ]
     },
     "execution_count": 74,
     "metadata": {},
     "output_type": "execute_result"
    }
   ],
   "source": [
    "df_copy[\"investment_type\"].str.contains(\"Series\")"
   ]
  },
  {
   "cell_type": "code",
   "execution_count": 75,
   "id": "9b4b9a5a-0f35-4cda-abf5-a8dcfeb449e0",
   "metadata": {},
   "outputs": [
    {
     "data": {
      "text/plain": [
       "array(['Private Equity Round', 'Series C', 'Series B', 'Pre-series A',\n",
       "       'Seed Round', 'Series A', 'Series D', 'Seed', 'Series F',\n",
       "       'Series E', 'Debt Funding', 'Series G', 'Series H', 'Venture',\n",
       "       'Seed Funding', 'no data', 'Funding Round', 'Corporate Round',\n",
       "       'Maiden Round', 'pre-series A', 'Seed Funding Round',\n",
       "       'Single Venture', 'Venture Round', 'Pre-Series A', 'Angel',\n",
       "       'Series J', 'Angel Round', 'pre-Series A',\n",
       "       'Venture - Series Unknown', 'Bridge Round', 'Private Equity',\n",
       "       'Debt and Preference capital', 'Inhouse Funding',\n",
       "       'Seed/ Angel Funding', 'Debt', 'Pre Series A', 'Equity',\n",
       "       'Debt-Funding', 'Mezzanine', 'Series B (Extension)',\n",
       "       'Equity Based Funding', 'Private Funding', 'Seed / Angel Funding',\n",
       "       'Seed/Angel Funding', 'Seed funding', 'Seed / Angle Funding',\n",
       "       'Angel / Seed Funding', 'Private', 'Structured Debt', 'Term Loan',\n",
       "       'PrivateEquity', 'Angel Funding', 'Seed\\\\\\\\nFunding',\n",
       "       'Private\\\\\\\\nEquity', 'Crowd funding', 'Crowd Funding'],\n",
       "      dtype=object)"
      ]
     },
     "execution_count": 75,
     "metadata": {},
     "output_type": "execute_result"
    }
   ],
   "source": [
    "df_copy[\"investment_type\"].unique()"
   ]
  },
  {
   "cell_type": "code",
   "execution_count": 76,
   "id": "46239cff-f970-4877-a396-e77f9643b2ec",
   "metadata": {},
   "outputs": [],
   "source": [
    "df_copy[\"investment_type\"] = df_copy[\"investment_type\"].str.upper()"
   ]
  },
  {
   "cell_type": "code",
   "execution_count": 77,
   "id": "cce461a8-572c-4186-8a0e-9a94ca4db90f",
   "metadata": {},
   "outputs": [
    {
     "data": {
      "text/plain": [
       "array(['PRIVATE EQUITY ROUND', 'SERIES C', 'SERIES B', 'PRE-SERIES A',\n",
       "       'SEED ROUND', 'SERIES A', 'SERIES D', 'SEED', 'SERIES F',\n",
       "       'SERIES E', 'DEBT FUNDING', 'SERIES G', 'SERIES H', 'VENTURE',\n",
       "       'SEED FUNDING', 'NO DATA', 'FUNDING ROUND', 'CORPORATE ROUND',\n",
       "       'MAIDEN ROUND', 'SEED FUNDING ROUND', 'SINGLE VENTURE',\n",
       "       'VENTURE ROUND', 'ANGEL', 'SERIES J', 'ANGEL ROUND',\n",
       "       'VENTURE - SERIES UNKNOWN', 'BRIDGE ROUND', 'PRIVATE EQUITY',\n",
       "       'DEBT AND PREFERENCE CAPITAL', 'INHOUSE FUNDING',\n",
       "       'SEED/ ANGEL FUNDING', 'DEBT', 'PRE SERIES A', 'EQUITY',\n",
       "       'DEBT-FUNDING', 'MEZZANINE', 'SERIES B (EXTENSION)',\n",
       "       'EQUITY BASED FUNDING', 'PRIVATE FUNDING', 'SEED / ANGEL FUNDING',\n",
       "       'SEED/ANGEL FUNDING', 'SEED / ANGLE FUNDING',\n",
       "       'ANGEL / SEED FUNDING', 'PRIVATE', 'STRUCTURED DEBT', 'TERM LOAN',\n",
       "       'PRIVATEEQUITY', 'ANGEL FUNDING', 'SEED\\\\\\\\NFUNDING',\n",
       "       'PRIVATE\\\\\\\\NEQUITY', 'CROWD FUNDING'], dtype=object)"
      ]
     },
     "execution_count": 77,
     "metadata": {},
     "output_type": "execute_result"
    }
   ],
   "source": [
    "df_copy[\"investment_type\"].unique()"
   ]
  },
  {
   "cell_type": "code",
   "execution_count": 78,
   "id": "a99b3b04-699c-4a20-99d8-19efee9bdcbc",
   "metadata": {},
   "outputs": [],
   "source": [
    "# Define : Change the all different names with the similar name of investment type.\n",
    "remove_lst1 = [\"SEED\",\"SEED ROUND\", \"SEED FUNDING ROUND\", \"SEED\\\\\\\\NFUNDING\"] # SEED FUNDING\n",
    "remove_lst2 = [\"PRIVATE EQUITY ROUND\", \"PRIVATE\", \"PRIVATEEQUITY\", \"PRIVATE\\\\\\\\NEQUITY\",\"PROVATE FUNDING\"] # PRIVATE FUNDING\n",
    "remove_lst3 = [\"SEED/ ANGEL FUNDING\", \"SEED / ANGEL FUNDING\", \"SEED/ANGEL FUNDING\",\"SEED / ANGLE FUNDING\"] # SEED / ANGEL FUNDING\n",
    "remove_lst4 = [\"ANGEL\",\"ANGEL ROUND\"] # ANGEL FUNDING\n",
    "remove_lst5 = [\"EQUITY\"] # EQUTIY FUNDING\n",
    "remove_lst6 = [\"VENTURE - SERIES UNKNOWN\"] # VENTURE"
   ]
  },
  {
   "cell_type": "code",
   "execution_count": 79,
   "id": "a1918d8a-60dc-4b68-928e-4ff689369221",
   "metadata": {},
   "outputs": [],
   "source": [
    "# Code\n",
    "df_copy[\"investment_type\"] = df_copy[\"investment_type\"].apply(lambda x: \"SEED FUNDING\" if x in remove_lst1 else x)\n",
    "df_copy[\"investment_type\"] = df_copy[\"investment_type\"].apply(lambda x: \"PRIVATE FUNDING\" if x in remove_lst2 else x)\n",
    "df_copy[\"investment_type\"] = df_copy[\"investment_type\"].apply(lambda x: \"SEED / ANGEL FUNDING\" if x in remove_lst3 else x)\n",
    "df_copy[\"investment_type\"] = df_copy[\"investment_type\"].apply(lambda x: \"ANGEL FUNDING\" if x in remove_lst4 else x)\n",
    "df_copy[\"investment_type\"] = df_copy[\"investment_type\"].apply(lambda x: \"EQUITY FUNDING\" if x in remove_lst5 else x)\n",
    "df_copy[\"investment_type\"] = df_copy[\"investment_type\"].apply(lambda x: \"VENTURE\" if x in remove_lst6 else x)"
   ]
  },
  {
   "cell_type": "code",
   "execution_count": 80,
   "id": "16d80c0f-5330-4d9b-9832-68313ddd43b5",
   "metadata": {},
   "outputs": [
    {
     "data": {
      "text/plain": [
       "array(['PRIVATE FUNDING', 'SERIES C', 'SERIES B', 'PRE-SERIES A',\n",
       "       'SEED FUNDING', 'SERIES A', 'SERIES D', 'SERIES F', 'SERIES E',\n",
       "       'DEBT FUNDING', 'SERIES G', 'SERIES H', 'VENTURE', 'NO DATA',\n",
       "       'FUNDING ROUND', 'CORPORATE ROUND', 'MAIDEN ROUND',\n",
       "       'SINGLE VENTURE', 'VENTURE ROUND', 'ANGEL FUNDING', 'SERIES J',\n",
       "       'BRIDGE ROUND', 'PRIVATE EQUITY', 'DEBT AND PREFERENCE CAPITAL',\n",
       "       'INHOUSE FUNDING', 'SEED / ANGEL FUNDING', 'DEBT', 'PRE SERIES A',\n",
       "       'EQUITY FUNDING', 'DEBT-FUNDING', 'MEZZANINE',\n",
       "       'SERIES B (EXTENSION)', 'EQUITY BASED FUNDING',\n",
       "       'ANGEL / SEED FUNDING', 'STRUCTURED DEBT', 'TERM LOAN',\n",
       "       'CROWD FUNDING'], dtype=object)"
      ]
     },
     "execution_count": 80,
     "metadata": {},
     "output_type": "execute_result"
    }
   ],
   "source": [
    "# Test\n",
    "df_copy[\"investment_type\"].unique()"
   ]
  },
  {
   "cell_type": "code",
   "execution_count": 81,
   "id": "628f7bd9-95d9-4149-91c6-b83f946a4284",
   "metadata": {},
   "outputs": [],
   "source": [
    "df_copy[\"investment_type\"] = df_copy[\"investment_type\"].str.title()"
   ]
  },
  {
   "cell_type": "code",
   "execution_count": 82,
   "id": "4592c81e-832f-4c03-8515-f06df12a50bf",
   "metadata": {},
   "outputs": [
    {
     "data": {
      "text/plain": [
       "array(['Private Funding', 'Series C', 'Series B', 'Pre-Series A',\n",
       "       'Seed Funding', 'Series A', 'Series D', 'Series F', 'Series E',\n",
       "       'Debt Funding', 'Series G', 'Series H', 'Venture', 'No Data',\n",
       "       'Funding Round', 'Corporate Round', 'Maiden Round',\n",
       "       'Single Venture', 'Venture Round', 'Angel Funding', 'Series J',\n",
       "       'Bridge Round', 'Private Equity', 'Debt And Preference Capital',\n",
       "       'Inhouse Funding', 'Seed / Angel Funding', 'Debt', 'Pre Series A',\n",
       "       'Equity Funding', 'Debt-Funding', 'Mezzanine',\n",
       "       'Series B (Extension)', 'Equity Based Funding',\n",
       "       'Angel / Seed Funding', 'Structured Debt', 'Term Loan',\n",
       "       'Crowd Funding'], dtype=object)"
      ]
     },
     "execution_count": 82,
     "metadata": {},
     "output_type": "execute_result"
    }
   ],
   "source": [
    "df_copy[\"investment_type\"].unique()"
   ]
  },
  {
   "cell_type": "code",
   "execution_count": 83,
   "id": "54afa7dc-db69-440f-8290-6eccba8167e7",
   "metadata": {},
   "outputs": [],
   "source": [
    "# new_df"
   ]
  },
  {
   "cell_type": "markdown",
   "id": "c3003913-3d9e-468c-88fb-1475fe32bbc6",
   "metadata": {
    "tags": []
   },
   "source": [
    "### Visualization Starts"
   ]
  },
  {
   "cell_type": "code",
   "execution_count": 85,
   "id": "9230c1b8-4ee5-412d-a35e-71226aebc60f",
   "metadata": {},
   "outputs": [],
   "source": [
    "sns.set(style=\"darkgrid\")"
   ]
  },
  {
   "cell_type": "code",
   "execution_count": 86,
   "id": "a880b4da-08a0-44e3-9051-93ef0207b229",
   "metadata": {},
   "outputs": [
    {
     "data": {
      "image/png": "[encoded data removed]",
      "text/plain": [
       "<Figure size 1080x576 with 1 Axes>"
      ]
     },
     "metadata": {
      "needs_background": "light"
     },
     "output_type": "display_data"
    }
   ],
   "source": [
    "bar_df = df_copy.groupby(\"industry_vertical\")[\"amount_cr\"].sum().sort_values(ascending=False).to_frame().reset_index()\n",
    "\n",
    "plt.figure(figsize=(15,8))\n",
    "sns.barplot(x=\"industry_vertical\",y=\"amount_cr\",data=bar_df.iloc[:11])\n",
    "plt.xticks(rotation=90)\n",
    "plt.title(\"Industry Vertical Wise Total Investment\",fontdict={\"fontsize\":15,\"color\":\"red\"})\n",
    "plt.show()\n",
    "\n",
    "# Summary : \n",
    "# Consumer Internet has the highest investment of more than 1 lac Cr and on second E-Commerce sector has 80k Cr and on third technology sector has total investment of 42k Cr."
   ]
  },
  {
   "cell_type": "code",
   "execution_count": 87,
   "id": "5ddd6c4b-5a58-4242-be24-b328cd763bcf",
   "metadata": {},
   "outputs": [
    {
     "data": {
      "image/png": "[encoded data removed]",
      "text/plain": [
       "<Figure size 1440x576 with 2 Axes>"
      ]
     },
     "metadata": {
      "needs_background": "light"
     },
     "output_type": "display_data"
    }
   ],
   "source": [
    "# Which investors have invested howmuch money in the consumer internet :\n",
    "fig,axes = plt.subplots(1,2,figsize=(20,8))\n",
    "industry_lst = [\"Consumer Internet\",\"E-Commerce\"]\n",
    "\n",
    "for i in range(len(industry_lst)):\n",
    "    grp1 = df_copy[df_copy[\"industry_vertical\"] == industry_lst[i]].groupby(\"investors_name\")[\"amount_cr\"].sum().sort_values(ascending=False)[:11]\n",
    "    grp1.plot(kind=\"bar\",ax=axes[i])\n",
    "    axes[i].set_title(f\"Top 10 Companies who invested in {industry_lst[i]}\",fontdict={\"fontsize\":15,\"color\":\"red\"})\n",
    "    plt.tight_layout()\n",
    "\n",
    "# Summary :\n",
    "# Softbank Group is the company who invested in the both Consumer Internet with more than 2500 Cr and E-Commerce industry with more than 30000 Cr investment."
   ]
  },
  {
   "cell_type": "code",
   "execution_count": 172,
   "id": "38cc22b4-253c-40be-82aa-1466a90cfc1e",
   "metadata": {},
   "outputs": [
    {
     "data": {
      "image/png": "[encoded data removed]",
      "text/plain": [
       "<Figure size 1080x576 with 1 Axes>"
      ]
     },
     "metadata": {
      "needs_background": "light"
     },
     "output_type": "display_data"
    }
   ],
   "source": [
    "bar_df = df_copy[df_copy[\"sub_vertical\"] != \"no data\"].groupby([\"industry_vertical\",\"sub_vertical\"])[\"amount_cr\"].sum().sort_values(ascending=False).reset_index()\n",
    "\n",
    "plt.figure(figsize=(15,8))\n",
    "sns.barplot(x=\"sub_vertical\",y=\"amount_cr\",data=bar_df.iloc[:11])\n",
    "plt.xticks(rotation=90)\n",
    "plt.title(\"Subvertical Wise Total Investment\",fontdict={\"fontsize\":15,\"color\":\"red\"})\n",
    "plt.show()\n",
    "\n",
    "# Summary : \n",
    "# Bike Taxi is on the top with 30000 Cr investment."
   ]
  },
  {
   "cell_type": "code",
   "execution_count": 90,
   "id": "d02f6edd-8fd0-4ce9-9537-abde3f1e9dbf",
   "metadata": {},
   "outputs": [
    {
     "data": {
      "image/png": "[encoded data removed]",
      "text/plain": [
       "<Figure size 1080x576 with 1 Axes>"
      ]
     },
     "metadata": {
      "needs_background": "light"
     },
     "output_type": "display_data"
    }
   ],
   "source": [
    "# Define : City wise total investent in startup\n",
    "# Code\n",
    "bar_df = df_copy.groupby(\"city\")[\"amount_cr\"].sum().sort_values(ascending=False).to_frame().reset_index()\n",
    "\n",
    "plt.figure(figsize=(15,8))\n",
    "sns.barplot(x=\"city\",y=\"amount_cr\",data=bar_df.iloc[:11])\n",
    "plt.xticks(rotation=90)\n",
    "plt.title(\"City Wise Total Investment\",fontdict={\"fontsize\":15,\"color\":\"red\"})\n",
    "plt.show()\n",
    "\n",
    "# Summary : \n",
    "# Bangalore city startup has the investment of more than 15000 Cr and mumbai comes on second place with 40000 Cr."
   ]
  },
  {
   "cell_type": "code",
   "execution_count": 91,
   "id": "8df52412-52d8-47b6-9625-aa8555eee791",
   "metadata": {},
   "outputs": [
    {
     "data": {
      "image/png": "[encoded data removed]",
      "text/plain": [
       "<Figure size 864x576 with 1 Axes>"
      ]
     },
     "metadata": {
      "needs_background": "light"
     },
     "output_type": "display_data"
    }
   ],
   "source": [
    "# Define : Which type of industry has invested in startup in Bangalore.\n",
    "plt.figure(figsize=(12,8))\n",
    "df_copy[df_copy[\"city\"] == \"Bangalore\"].groupby(\"industry_vertical\").sum()[\"amount_cr\"].sort_values(ascending=False)[:11].plot(kind=\"bar\")\n",
    "plt.title(\"Industry wise investment in Bangalore\",fontdict={\"fontsize\":15,\"color\":\"red\"})\n",
    "plt.show()\n",
    "\n",
    "# Summary :\n",
    "# In Bangalore most of the investment are done in E-Commerce sector then Consumer internet and then transportation."
   ]
  },
  {
   "cell_type": "code",
   "execution_count": 92,
   "id": "ce4de3e0-4930-4106-a183-8a3c1cec88ea",
   "metadata": {},
   "outputs": [
    {
     "data": {
      "image/png": "[encoded data removed]",
      "text/plain": [
       "<Figure size 1080x576 with 1 Axes>"
      ]
     },
     "metadata": {
      "needs_background": "light"
     },
     "output_type": "display_data"
    }
   ],
   "source": [
    "# Define : Which investors did howmuch investment.\n",
    "# Code\n",
    "bar_df = df_copy.groupby(\"investors_name\")[\"amount_cr\"].sum().sort_values(ascending=False).to_frame().reset_index()\n",
    "\n",
    "plt.figure(figsize=(15,8))\n",
    "sns.barplot(x=\"investors_name\",y=\"amount_cr\",data=bar_df.iloc[:11])\n",
    "plt.xticks(rotation=90)\n",
    "plt.title(\"Investors Total Investment\",fontdict={\"fontsize\":15,\"color\":\"red\"})\n",
    "plt.show()\n",
    "\n",
    "# Summary : \n",
    "# Softbank Group has invested more than 34000 Cr and Westbridge Capital has invested slightly less than Softbank Group near to 33000 Cr."
   ]
  },
  {
   "cell_type": "code",
   "execution_count": 107,
   "id": "6d58334e-b51b-4784-ae05-5f4a423aeac4",
   "metadata": {},
   "outputs": [
    {
     "data": {
      "image/png": "[encoded data removed]",
      "text/plain": [
       "<Figure size 1080x576 with 1 Axes>"
      ]
     },
     "metadata": {
      "needs_background": "light"
     },
     "output_type": "display_data"
    }
   ],
   "source": [
    "# Define : Total investment in which kind of investment.\n",
    "# Code\n",
    "bar_df = df_copy.groupby(\"investment_type\")[\"amount_cr\"].sum().sort_values(ascending=False).to_frame().reset_index()\n",
    "\n",
    "plt.figure(figsize=(15,8))\n",
    "sns.barplot(x=\"investment_type\",y=\"amount_cr\",data=bar_df.iloc[:11])\n",
    "plt.xticks(rotation=90)\n",
    "plt.title(\"Type of investment by investors\",fontdict={\"fontsize\":15,\"color\":\"red\"})\n",
    "plt.show()\n",
    "\n",
    "# Summary : \n",
    "# More than 2.5 lac Cr investment are done in private equity of company."
   ]
  },
  {
   "cell_type": "code",
   "execution_count": 94,
   "id": "1546fb7b-71a9-4e91-ae5e-d4011b4fb030",
   "metadata": {},
   "outputs": [
    {
     "data": {
      "image/png": "[encoded data removed]",
      "text/plain": [
       "<Figure size 864x576 with 1 Axes>"
      ]
     },
     "metadata": {
      "needs_background": "light"
     },
     "output_type": "display_data"
    }
   ],
   "source": [
    "# Define : Year wise highest investors investment\n",
    "# Code\n",
    "df_copy[\"year\"] = df_copy[\"date\"].dt.year\n",
    "\n",
    "years = df_copy[\"year\"].unique()[::-1]\n",
    "name_lst,investor_lst,amount_lst,year_lst = [],[],[],[]\n",
    "for year in years:\n",
    "    data = df_copy[df_copy[\"year\"] == year].sort_values(by=\"amount_cr\",ascending=False).iloc[0]\n",
    "    year_lst.append(data[\"year\"])\n",
    "    name_lst.append(data[\"startup_name\"])\n",
    "    investor_lst.append(data[\"investors_name\"])\n",
    "    amount_lst.append(data[\"amount_cr\"])\n",
    "\n",
    "new_df = pd.DataFrame({\"year\":year_lst,\"startup_name\":name_lst,\"investors_name\":investor_lst,\"amount_cr\":amount_lst})\n",
    "\n",
    "plt.figure(figsize=(12,8))\n",
    "plt.title(\"Year wise Highest investors investment\",fontdict={\"fontsize\":15,\"color\":\"red\"})\n",
    "new_df.groupby([\"year\",\"startup_name\"])[\"amount_cr\"].sum().plot(kind=\"bar\")\n",
    "plt.show()\n",
    "\n",
    "# Flipkart did two times highest investment in year 2015 and 2017.\n",
    "# In 2019 Rapid Bike Taxi invested more than 32000 cr which is the highest investment amoung 2015 to 2020.\n",
    "# In 2020 Byju's invested around 1600 cr."
   ]
  },
  {
   "cell_type": "code",
   "execution_count": 97,
   "id": "a65cac79-021a-4599-9f27-2f083ff5e8df",
   "metadata": {},
   "outputs": [],
   "source": [
    "df_copy[\"date\"] = pd.to_datetime(df_copy[\"date\"])"
   ]
  },
  {
   "cell_type": "code",
   "execution_count": 98,
   "id": "6c1aaee5-83ba-4bc9-b83e-6487b26fbf13",
   "metadata": {},
   "outputs": [
    {
     "data": {
      "text/plain": [
       "date                 datetime64[ns]\n",
       "startup_name                 object\n",
       "industry_vertical            object\n",
       "sub_vertical                 object\n",
       "city                         object\n",
       "investors_name               object\n",
       "investment_type              object\n",
       "amount_cr                   float64\n",
       "year                          int64\n",
       "dtype: object"
      ]
     },
     "execution_count": 98,
     "metadata": {},
     "output_type": "execute_result"
    }
   ],
   "source": [
    "df_copy.dtypes"
   ]
  },
  {
   "cell_type": "code",
   "execution_count": 99,
   "id": "a4a468ce-5cf8-4b77-9aca-41da0d59ea33",
   "metadata": {},
   "outputs": [],
   "source": [
    "df_copy[\"year\"] = df_copy[\"date\"].dt.year"
   ]
  },
  {
   "cell_type": "code",
   "execution_count": 100,
   "id": "f5a28ead-064f-42bb-96e9-6cffa0bf1fb4",
   "metadata": {},
   "outputs": [
    {
     "data": {
      "text/html": [
       "<div>\n",
       "<style scoped>\n",
       "    .dataframe tbody tr th:only-of-type {\n",
       "        vertical-align: middle;\n",
       "    }\n",
       "\n",
       "    .dataframe tbody tr th {\n",
       "        vertical-align: top;\n",
       "    }\n",
       "\n",
       "    .dataframe thead th {\n",
       "        text-align: right;\n",
       "    }\n",
       "</style>\n",
       "<table border=\"1\" class=\"dataframe\">\n",
       "  <thead>\n",
       "    <tr style=\"text-align: right;\">\n",
       "      <th></th>\n",
       "      <th>amount_cr</th>\n",
       "    </tr>\n",
       "    <tr>\n",
       "      <th>year</th>\n",
       "      <th></th>\n",
       "    </tr>\n",
       "  </thead>\n",
       "  <tbody>\n",
       "    <tr>\n",
       "      <th>2015</th>\n",
       "      <td>71604.884839</td>\n",
       "    </tr>\n",
       "    <tr>\n",
       "      <th>2016</th>\n",
       "      <td>31868.837662</td>\n",
       "    </tr>\n",
       "    <tr>\n",
       "      <th>2017</th>\n",
       "      <td>86824.003502</td>\n",
       "    </tr>\n",
       "    <tr>\n",
       "      <th>2018</th>\n",
       "      <td>42643.716672</td>\n",
       "    </tr>\n",
       "    <tr>\n",
       "      <th>2019</th>\n",
       "      <td>80640.749656</td>\n",
       "    </tr>\n",
       "    <tr>\n",
       "      <th>2020</th>\n",
       "      <td>3248.475390</td>\n",
       "    </tr>\n",
       "  </tbody>\n",
       "</table>\n",
       "</div>"
      ],
      "text/plain": [
       "         amount_cr\n",
       "year              \n",
       "2015  71604.884839\n",
       "2016  31868.837662\n",
       "2017  86824.003502\n",
       "2018  42643.716672\n",
       "2019  80640.749656\n",
       "2020   3248.475390"
      ]
     },
     "execution_count": 100,
     "metadata": {},
     "output_type": "execute_result"
    }
   ],
   "source": [
    "df_copy.groupby(\"year\").sum()"
   ]
  },
  {
   "cell_type": "code",
   "execution_count": 173,
   "id": "cf8cd7d3-00da-4f59-b1db-62e43a0055a6",
   "metadata": {},
   "outputs": [
    {
     "data": {
      "image/png": "[encoded data removed]",
      "text/plain": [
       "<Figure size 1080x576 with 1 Axes>"
      ]
     },
     "metadata": {
      "needs_background": "light"
     },
     "output_type": "display_data"
    }
   ],
   "source": [
    "# Define : Year wise investment using line chart.\n",
    "# Code\n",
    "df_copy.groupby(\"year\")[\"amount_cr\"].sum().plot(c=\"green\",marker=\"*\",ms=12)\n",
    "plt.gcf().set_size_inches(15, 8)\n",
    "plt.title(\"Year Wise Investment\",fontdict={\"fontsize\":15,\"color\":\"red\"})\n",
    "plt.show()\n",
    "\n",
    "# Summary :\n",
    "# In 2017 investors have highest investment around 86000 cr and as time goes the number of investment getting reduced to 3248 cr in 2020."
   ]
  },
  {
   "cell_type": "code",
   "execution_count": 102,
   "id": "7998f1c3-39f2-43c3-920e-d22a19b65786",
   "metadata": {},
   "outputs": [],
   "source": [
    "df_copy[\"month\"] = df_copy[\"date\"].dt.month"
   ]
  },
  {
   "cell_type": "code",
   "execution_count": 103,
   "id": "ac59cf4a-3f62-4b94-917d-b568f02a1717",
   "metadata": {},
   "outputs": [
    {
     "data": {
      "text/plain": [
       "month\n",
       "1      8048.951325\n",
       "2      2536.549245\n",
       "3      5838.239250\n",
       "4      4560.393375\n",
       "5      1719.403875\n",
       "6      4829.540625\n",
       "7     12770.980969\n",
       "8      6436.482075\n",
       "9     11537.251200\n",
       "10     2782.872675\n",
       "11     8378.862750\n",
       "12     2165.357475\n",
       "Name: amount_cr, dtype: float64"
      ]
     },
     "execution_count": 103,
     "metadata": {},
     "output_type": "execute_result"
    }
   ],
   "source": [
    "df_copy[df_copy[\"year\"] ==  2015].groupby(\"month\").sum()[\"amount_cr\"]"
   ]
  },
  {
   "cell_type": "code",
   "execution_count": 208,
   "id": "a8c8290e-36a7-499c-9b87-5712aa607029",
   "metadata": {},
   "outputs": [
    {
     "data": {
      "image/png": "[encoded data removed]",
      "text/plain": [
       "<Figure size 1080x576 with 6 Axes>"
      ]
     },
     "metadata": {
      "needs_background": "light"
     },
     "output_type": "display_data"
    }
   ],
   "source": [
    "# Define : Monthwise investment for every year.\n",
    "# Code\n",
    "\n",
    "fig,axes = plt.subplots(2,3,sharex=True)\n",
    "years = df_copy[\"year\"].unique()[::-1]\n",
    "count = 0\n",
    "\n",
    "plt.gcf().set_size_inches(15, 8)\n",
    "fig.suptitle(\"Month Wise Investment In Different Years\",fontsize=18,c=\"red\")\n",
    "\n",
    "\n",
    "for i in range(0,2):\n",
    "    for j in range(0,3):\n",
    "        data = df_copy[df_copy[\"year\"] ==  years[count]].groupby(\"month\").sum()[\"amount_cr\"].reset_index()\n",
    "        axes[i,j].plot(data[\"month\"],data[\"amount_cr\"])\n",
    "        axes[i,j].set_title(years[count],fontdict={\"fontsize\":15,\"color\":\"red\"})\n",
    "        plt.tight_layout()\n",
    "        count += 1\n",
    "plt.show()\n",
    "\n",
    "        \n",
    "# Summary :\n",
    "# Investors are investing more money in between june to august as per 2015, 2016, 2018, 2019 graph shows.\n",
    "# In 2017 investor invested almost 30000 Cr between octomber to december.\n",
    "# In 2020 year investment growth exponentially increased from 25 Cr to almost 1800 Cr in september month and suddenly goes down to 1250 Cr in octomber month."
   ]
  },
  {
   "cell_type": "code",
   "execution_count": 216,
   "id": "09028d6a-b8ae-48e8-8077-19764b786da0",
   "metadata": {},
   "outputs": [
    {
     "data": {
      "image/png": "[encoded data removed]",
      "text/plain": [
       "<Figure size 1440x576 with 1 Axes>"
      ]
     },
     "metadata": {
      "needs_background": "light"
     },
     "output_type": "display_data"
    }
   ],
   "source": [
    "# Define : month and year wise investment in consumer internet.\n",
    "# Code\n",
    "temp_df = df_copy[df_copy[\"industry_vertical\"] == \"Consumer Internet\"]\n",
    "\n",
    "plt.figure(figsize=(20,8))\n",
    "temp_df.groupby([\"year\",\"month\"])[\"amount_cr\"].sum().plot(c=\"green\",marker=\"o\",linestyle=\"dotted\")\n",
    "plt.title(\"Year and Month Wise Investment in Consumer Internet\",fontdict={\"fontsize\":18,\"color\":\"red\"})\n",
    "\n",
    "# temp_df.groupby([\"year\",\"month\"])[\"amount_cr\"].sum().plot(c=\"red\",marker=\"o\")\n",
    "plt.show()\n",
    "\n",
    "# Summary :\n",
    "# In december 2016 investors are more invested in consumer internet more than 4000 cr.\n",
    "# Then investment goes down to 800 cr in January 2017 and flactuated till 2017\n",
    "# and gradually goes up from april 2018 to july 2018 and drastically goes down till december 2018."
   ]
  },
  {
   "cell_type": "code",
   "execution_count": 219,
   "id": "bc06a229-0e83-4036-a2b7-074b8b626d76",
   "metadata": {},
   "outputs": [
    {
     "data": {
      "image/png": "[encoded data removed]",
      "text/plain": [
       "<Figure size 864x576 with 1 Axes>"
      ]
     },
     "metadata": {
      "needs_background": "light"
     },
     "output_type": "display_data"
    }
   ],
   "source": [
    "# Find companies that started in between june to august with industry_vertical and sub_vertical.\n",
    "month_df = df_copy[(df_copy[\"month\"] == 6) | (df_copy[\"month\"] == 7) | (df_copy[\"month\"] == 8) | (df_copy[\"year\"] == 2015) |(df_copy[\"year\"] == 2016) | (df_copy[\"year\"] == 2018)| (df_copy[\"year\"] == 2019)]\n",
    "plt.figure(figsize=(12,8))\n",
    "plt.title(\"June to August total investment\",fontdict={\"fontsize\":18,\"color\":\"red\"})\n",
    "month_df.groupby(\"industry_vertical\")[\"amount_cr\"].sum().sort_values(ascending=False)[:11].plot(kind=\"bar\")\n",
    "plt.show()\n",
    "\n",
    "# In 2015, 2016, 2018, 2019 year june to august investors invested in consumer internet and transportation."
   ]
  },
  {
   "cell_type": "code",
   "execution_count": 224,
   "id": "ee0d609e-5ce5-41b2-a979-b3b93b581d85",
   "metadata": {},
   "outputs": [
    {
     "data": {
      "image/png": "[encoded data removed]",
      "text/plain": [
       "<Figure size 864x576 with 1 Axes>"
      ]
     },
     "metadata": {
      "needs_background": "light"
     },
     "output_type": "display_data"
    }
   ],
   "source": [
    "# Find companies that started in between june to august and octomber to december with industry_vertical and sub_vertical.\n",
    "month_df = df_copy[(df_copy[\"month\"] == 10) | (df_copy[\"month\"] == 11) | (df_copy[\"month\"] == 12) | (df_copy[\"year\"] == 2017) ]\n",
    "plt.figure(figsize=(12,8))\n",
    "plt.title(\"October to December total investment\",fontdict={\"fontsize\":18,\"color\":\"red\"})\n",
    "month_df.groupby(\"industry_vertical\")[\"amount_cr\"].sum().sort_values(ascending=False)[:11].plot(kind=\"bar\")\n",
    "plt.show()\n",
    "\n",
    "# In 2017 year october to december investors invested in E-Commerce."
   ]
  },
  {
   "cell_type": "markdown",
   "id": "d4dcaaca-2de3-47da-a2d7-3aa14b0d320f",
   "metadata": {
    "tags": []
   },
   "source": [
    "### Conclusion :"
   ]
  },
  {
   "cell_type": "code",
   "execution_count": 225,
   "id": "5d1f5f6b-9ad9-4add-9f69-85dc50cb01a2",
   "metadata": {},
   "outputs": [],
   "source": [
    "# Investors have more invested on Consumer Internet,E-Commerce and technology sector.\n",
    "# Softbank Group has invested more money on Consumer Internet and E-Commerce sector.\n",
    "# Sub vertical Bike Taxi has more investment.\n",
    "# Most of the startup started in Bagalore and Mumbai.\n",
    "# In Bangalore city investors invested in E-Commerce, Consumer Internet, Transporation.\n",
    "# Softbank Group and Westbridge Capital is the top two investors.\n",
    "# Investors have invested as private equity in startup and the total amount is 2.4lac cr.\n",
    "# Flipkart was highest investor in year 2015 and 2017.\n",
    "# In year 2019 Rapid Bike Taxi invested more than 32000 cr which is the highest investment amoung 2015 to 2020 that's why sub vertical bike taxi has the highest investment.\n",
    "# In year 2020 Byju's was the highest investor.\n",
    "# In 2017 we have highest investment around 86000 cr and as time goes the number of investment getting reduced to 3248 cr in 2020.\n",
    "# Investors has invested more money in between june to august as per 2015, 2016, 2018, 2019.\n",
    "# In 2017 investor invested almost 30000 Cr between octomber to december.\n",
    "# In 2020 year investment growth exponentially increased from 25 Cr to almost 1800 Cr in september month and suddenly goes down to 1250 Cr in octomber month.\n",
    "# In december 2016 investors are more invested in consumer internet more than 4000 cr.\n",
    "# Then investment goes down to 800 cr in January 2017 and flactuated till 2017 and gradually goes up from april 2018 to july 2018 and drastically goes down till december 2018.\n",
    "# In 2015, 2016, 2018, 2019 year june to august investors invested in consumer internet and transportation.\n",
    "# In 2017 year october to december investors invested in E-Commerce."
   ]
  }
 ],
 "metadata": {
  "kernelspec": {
   "display_name": "Python 3 (ipykernel)",
   "language": "python",
   "name": "python3"
  },
  "language_info": {
   "codemirror_mode": {
    "name": "ipython",
    "version": 3
   },
   "file_extension": ".py",
   "mimetype": "text/x-python",
   "name": "python",
   "nbconvert_exporter": "python",
   "pygments_lexer": "ipython3",
   "version": "3.9.12"
  }
 },
 "nbformat": 4,
 "nbformat_minor": 5
}
